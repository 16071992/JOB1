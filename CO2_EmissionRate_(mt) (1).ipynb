{
 "cells": [
  {
   "cell_type": "markdown",
   "id": "296d3331-e2f7-4800-9c24-d4dbb4a43bf1",
   "metadata": {},
   "source": [
    "# <u><strong>CO2 Emission Dataset</strong></u>"
   ]
  },
  {
   "cell_type": "code",
   "execution_count": 32,
   "id": "40809288-0e76-40f6-98bb-1d702df7e42d",
   "metadata": {
    "tags": []
   },
   "outputs": [],
   "source": [
    "import pandas as pd\n",
    "import numpy as np\n",
    "import matplotlib.pyplot as plt\n",
    "import seaborn as sns"
   ]
  },
  {
   "cell_type": "code",
   "execution_count": 33,
   "id": "7576ff7b-395a-43b1-b5cd-ef49ee3dad58",
   "metadata": {
    "tags": []
   },
   "outputs": [
    {
     "data": {
      "text/html": [
       "<div>\n",
       "<style scoped>\n",
       "    .dataframe tbody tr th:only-of-type {\n",
       "        vertical-align: middle;\n",
       "    }\n",
       "\n",
       "    .dataframe tbody tr th {\n",
       "        vertical-align: top;\n",
       "    }\n",
       "\n",
       "    .dataframe thead th {\n",
       "        text-align: right;\n",
       "    }\n",
       "</style>\n",
       "<table border=\"1\" class=\"dataframe\">\n",
       "  <thead>\n",
       "    <tr style=\"text-align: right;\">\n",
       "      <th></th>\n",
       "      <th>Country</th>\n",
       "      <th>Year</th>\n",
       "      <th>CO2EmissionRate (mt)</th>\n",
       "    </tr>\n",
       "  </thead>\n",
       "  <tbody>\n",
       "    <tr>\n",
       "      <th>0</th>\n",
       "      <td>Afghanistan</td>\n",
       "      <td>2021</td>\n",
       "      <td>8.35</td>\n",
       "    </tr>\n",
       "    <tr>\n",
       "      <th>1</th>\n",
       "      <td>Albania</td>\n",
       "      <td>2021</td>\n",
       "      <td>4.59</td>\n",
       "    </tr>\n",
       "    <tr>\n",
       "      <th>2</th>\n",
       "      <td>Algeria</td>\n",
       "      <td>2021</td>\n",
       "      <td>173</td>\n",
       "    </tr>\n",
       "    <tr>\n",
       "      <th>3</th>\n",
       "      <td>Angola</td>\n",
       "      <td>2021</td>\n",
       "      <td>24.45</td>\n",
       "    </tr>\n",
       "    <tr>\n",
       "      <th>4</th>\n",
       "      <td>Antigua and Barbuda</td>\n",
       "      <td>2021</td>\n",
       "      <td>0.78</td>\n",
       "    </tr>\n",
       "  </tbody>\n",
       "</table>\n",
       "</div>"
      ],
      "text/plain": [
       "               Country  Year CO2EmissionRate (mt)\n",
       "0          Afghanistan  2021                 8.35\n",
       "1              Albania  2021                 4.59\n",
       "2              Algeria  2021                  173\n",
       "3               Angola  2021                24.45\n",
       "4  Antigua and Barbuda  2021                 0.78"
      ]
     },
     "execution_count": 33,
     "metadata": {},
     "output_type": "execute_result"
    }
   ],
   "source": [
    "W=pd.read_csv('tidy_format_co2_emission_dataset.csv')\n",
    "W.head()"
   ]
  },
  {
   "cell_type": "code",
   "execution_count": 34,
   "id": "fbb8c124-368d-4bd2-962f-d74db1d3987b",
   "metadata": {
    "tags": []
   },
   "outputs": [
    {
     "name": "stdout",
     "output_type": "stream",
     "text": [
      "<class 'pandas.core.frame.DataFrame'>\n",
      "RangeIndex: 5572 entries, 0 to 5571\n",
      "Data columns (total 3 columns):\n",
      " #   Column                Non-Null Count  Dtype \n",
      "---  ------                --------------  ----- \n",
      " 0   Country               5572 non-null   object\n",
      " 1   Year                  5572 non-null   int64 \n",
      " 2   CO2EmissionRate (mt)  5572 non-null   object\n",
      "dtypes: int64(1), object(2)\n",
      "memory usage: 130.7+ KB\n"
     ]
    }
   ],
   "source": [
    "W.info()"
   ]
  },
  {
   "cell_type": "code",
   "execution_count": 35,
   "id": "27b4a4a0-dbdd-4b71-b6e7-3049ad4603d7",
   "metadata": {
    "tags": []
   },
   "outputs": [
    {
     "data": {
      "text/plain": [
       "Year\n",
       "1990    199\n",
       "1991    199\n",
       "1992    199\n",
       "1993    199\n",
       "1994    199\n",
       "1995    199\n",
       "1996    199\n",
       "1997    199\n",
       "1998    199\n",
       "1999    199\n",
       "2000    199\n",
       "2001    199\n",
       "2002    199\n",
       "2003    199\n",
       "2004    199\n",
       "2005    199\n",
       "2006    199\n",
       "2007    199\n",
       "2008    199\n",
       "2009    199\n",
       "2010    199\n",
       "2011    199\n",
       "2012    199\n",
       "2013    199\n",
       "2014    199\n",
       "2015    199\n",
       "2018    199\n",
       "2021    199\n",
       "Name: Year, dtype: int64"
      ]
     },
     "execution_count": 35,
     "metadata": {},
     "output_type": "execute_result"
    }
   ],
   "source": [
    "W.groupby('Year')['Year'].count()"
   ]
  },
  {
   "cell_type": "code",
   "execution_count": 36,
   "id": "b31c62cf-7aad-4c14-ac52-e0160ff1fe14",
   "metadata": {
    "tags": []
   },
   "outputs": [
    {
     "data": {
      "text/plain": [
       "Country\n",
       "Afghanistan            28\n",
       "Albania                28\n",
       "Algeria                28\n",
       "Angola                 28\n",
       "Antigua and Barbuda    28\n",
       "                       ..\n",
       "Venezuela              28\n",
       "Vietnam                28\n",
       "Yemen                  28\n",
       "Zambia                 28\n",
       "Zimbabwe               28\n",
       "Name: Year, Length: 199, dtype: int64"
      ]
     },
     "execution_count": 36,
     "metadata": {},
     "output_type": "execute_result"
    }
   ],
   "source": [
    "W.groupby('Country')['Year'].count()"
   ]
  },
  {
   "cell_type": "code",
   "execution_count": 37,
   "id": "1998465a-7ee1-4a86-aab6-0c96b383cecf",
   "metadata": {
    "tags": []
   },
   "outputs": [
    {
     "data": {
      "text/plain": [
       "Country                 object\n",
       "Year                     int64\n",
       "CO2EmissionRate (mt)    object\n",
       "dtype: object"
      ]
     },
     "execution_count": 37,
     "metadata": {},
     "output_type": "execute_result"
    }
   ],
   "source": [
    "W.dtypes"
   ]
  },
  {
   "cell_type": "markdown",
   "id": "99de879c-9c53-4e6c-acd2-5e3bd1739f07",
   "metadata": {
    "tags": []
   },
   "source": [
    "#### <u>**Above cell shows that CO2EmissionRate (mt) is object datatype instead float show we need to drop unwanted data .**</u>"
   ]
  },
  {
   "cell_type": "code",
   "execution_count": 38,
   "id": "84989e7a-afef-4bc8-8fc2-c4a08afbd68b",
   "metadata": {
    "tags": []
   },
   "outputs": [
    {
     "data": {
      "text/html": [
       "<div>\n",
       "<style scoped>\n",
       "    .dataframe tbody tr th:only-of-type {\n",
       "        vertical-align: middle;\n",
       "    }\n",
       "\n",
       "    .dataframe tbody tr th {\n",
       "        vertical-align: top;\n",
       "    }\n",
       "\n",
       "    .dataframe thead th {\n",
       "        text-align: right;\n",
       "    }\n",
       "</style>\n",
       "<table border=\"1\" class=\"dataframe\">\n",
       "  <thead>\n",
       "    <tr style=\"text-align: right;\">\n",
       "      <th></th>\n",
       "      <th>Country</th>\n",
       "      <th>Year</th>\n",
       "      <th>CO2EmissionRate (mt)</th>\n",
       "    </tr>\n",
       "  </thead>\n",
       "  <tbody>\n",
       "    <tr>\n",
       "      <th>0</th>\n",
       "      <td>Afghanistan</td>\n",
       "      <td>2021</td>\n",
       "      <td>8.35</td>\n",
       "    </tr>\n",
       "    <tr>\n",
       "      <th>1</th>\n",
       "      <td>Albania</td>\n",
       "      <td>2021</td>\n",
       "      <td>4.59</td>\n",
       "    </tr>\n",
       "    <tr>\n",
       "      <th>2</th>\n",
       "      <td>Algeria</td>\n",
       "      <td>2021</td>\n",
       "      <td>173</td>\n",
       "    </tr>\n",
       "    <tr>\n",
       "      <th>3</th>\n",
       "      <td>Angola</td>\n",
       "      <td>2021</td>\n",
       "      <td>24.45</td>\n",
       "    </tr>\n",
       "    <tr>\n",
       "      <th>4</th>\n",
       "      <td>Antigua and Barbuda</td>\n",
       "      <td>2021</td>\n",
       "      <td>0.78</td>\n",
       "    </tr>\n",
       "    <tr>\n",
       "      <th>...</th>\n",
       "      <td>...</td>\n",
       "      <td>...</td>\n",
       "      <td>...</td>\n",
       "    </tr>\n",
       "    <tr>\n",
       "      <th>5567</th>\n",
       "      <td>Venezuela</td>\n",
       "      <td>2018</td>\n",
       "      <td>3.7</td>\n",
       "    </tr>\n",
       "    <tr>\n",
       "      <th>5568</th>\n",
       "      <td>Vietnam</td>\n",
       "      <td>2018</td>\n",
       "      <td>2.8</td>\n",
       "    </tr>\n",
       "    <tr>\n",
       "      <th>5569</th>\n",
       "      <td>Yemen</td>\n",
       "      <td>2018</td>\n",
       "      <td>0.4</td>\n",
       "    </tr>\n",
       "    <tr>\n",
       "      <th>5570</th>\n",
       "      <td>Zambia</td>\n",
       "      <td>2018</td>\n",
       "      <td>0.3</td>\n",
       "    </tr>\n",
       "    <tr>\n",
       "      <th>5571</th>\n",
       "      <td>Zimbabwe</td>\n",
       "      <td>2018</td>\n",
       "      <td>0.8</td>\n",
       "    </tr>\n",
       "  </tbody>\n",
       "</table>\n",
       "<p>5450 rows × 3 columns</p>\n",
       "</div>"
      ],
      "text/plain": [
       "                  Country  Year CO2EmissionRate (mt)\n",
       "0             Afghanistan  2021                 8.35\n",
       "1                 Albania  2021                 4.59\n",
       "2                 Algeria  2021                  173\n",
       "3                  Angola  2021                24.45\n",
       "4     Antigua and Barbuda  2021                 0.78\n",
       "...                   ...   ...                  ...\n",
       "5567            Venezuela  2018                  3.7\n",
       "5568              Vietnam  2018                  2.8\n",
       "5569                Yemen  2018                  0.4\n",
       "5570               Zambia  2018                  0.3\n",
       "5571             Zimbabwe  2018                  0.8\n",
       "\n",
       "[5450 rows x 3 columns]"
      ]
     },
     "execution_count": 38,
     "metadata": {},
     "output_type": "execute_result"
    }
   ],
   "source": [
    "search_string = '-'\n",
    "condition = W['CO2EmissionRate (mt)'].str.contains(search_string, case=False, na=False)\n",
    "W = W[~condition]\n",
    "W"
   ]
  },
  {
   "cell_type": "code",
   "execution_count": 39,
   "id": "02ce643f-4fff-45ea-b33b-f04426f0ac3e",
   "metadata": {
    "tags": []
   },
   "outputs": [],
   "source": [
    "W['CO2EmissionRate (mt)']=W['CO2EmissionRate (mt)'].str.replace(',','')\n",
    "\n",
    "W['CO2EmissionRate (mt)']=W['CO2EmissionRate (mt)'].str.replace('_','')"
   ]
  },
  {
   "cell_type": "code",
   "execution_count": 40,
   "id": "ab3ca275-3140-4253-b0d2-e89a0a273465",
   "metadata": {
    "tags": []
   },
   "outputs": [],
   "source": [
    "W['CO2EmissionRate (mt)']=W['CO2EmissionRate (mt)'].astype('float32')"
   ]
  },
  {
   "cell_type": "code",
   "execution_count": 41,
   "id": "51b28fdc-3b7e-4661-ba5d-a049c9151fd1",
   "metadata": {
    "tags": []
   },
   "outputs": [
    {
     "data": {
      "text/plain": [
       "Country                  object\n",
       "Year                      int64\n",
       "CO2EmissionRate (mt)    float32\n",
       "dtype: object"
      ]
     },
     "execution_count": 41,
     "metadata": {},
     "output_type": "execute_result"
    }
   ],
   "source": [
    "W.dtypes"
   ]
  },
  {
   "cell_type": "markdown",
   "id": "b8f1be36-7d65-4f42-a925-c013d2d18cb8",
   "metadata": {
    "tags": []
   },
   "source": [
    "### **In the below cell we observe that year 2021 has very high co2 emission** "
   ]
  },
  {
   "cell_type": "code",
   "execution_count": 42,
   "id": "e6116db1-4066-495f-a6ee-022ba57b2a9d",
   "metadata": {
    "tags": []
   },
   "outputs": [
    {
     "data": {
      "text/html": [
       "<div>\n",
       "<style scoped>\n",
       "    .dataframe tbody tr th:only-of-type {\n",
       "        vertical-align: middle;\n",
       "    }\n",
       "\n",
       "    .dataframe tbody tr th {\n",
       "        vertical-align: top;\n",
       "    }\n",
       "\n",
       "    .dataframe thead th {\n",
       "        text-align: right;\n",
       "    }\n",
       "</style>\n",
       "<table border=\"1\" class=\"dataframe\">\n",
       "  <thead>\n",
       "    <tr style=\"text-align: right;\">\n",
       "      <th></th>\n",
       "      <th>Country</th>\n",
       "      <th>Year</th>\n",
       "      <th>CO2EmissionRate (mt)</th>\n",
       "    </tr>\n",
       "  </thead>\n",
       "  <tbody>\n",
       "    <tr>\n",
       "      <th>38</th>\n",
       "      <td>China</td>\n",
       "      <td>2021</td>\n",
       "      <td>12466.320312</td>\n",
       "    </tr>\n",
       "    <tr>\n",
       "      <th>190</th>\n",
       "      <td>United States</td>\n",
       "      <td>2021</td>\n",
       "      <td>4752.080078</td>\n",
       "    </tr>\n",
       "    <tr>\n",
       "      <th>85</th>\n",
       "      <td>India</td>\n",
       "      <td>2021</td>\n",
       "      <td>2648.780029</td>\n",
       "    </tr>\n",
       "    <tr>\n",
       "      <th>148</th>\n",
       "      <td>Russia</td>\n",
       "      <td>2021</td>\n",
       "      <td>1942.540039</td>\n",
       "    </tr>\n",
       "    <tr>\n",
       "      <th>94</th>\n",
       "      <td>Japan</td>\n",
       "      <td>2021</td>\n",
       "      <td>1084.689941</td>\n",
       "    </tr>\n",
       "    <tr>\n",
       "      <th>87</th>\n",
       "      <td>Iran</td>\n",
       "      <td>2021</td>\n",
       "      <td>710.830017</td>\n",
       "    </tr>\n",
       "    <tr>\n",
       "      <th>69</th>\n",
       "      <td>Germany</td>\n",
       "      <td>2021</td>\n",
       "      <td>665.880005</td>\n",
       "    </tr>\n",
       "    <tr>\n",
       "      <th>167</th>\n",
       "      <td>South Korea</td>\n",
       "      <td>2021</td>\n",
       "      <td>626.799988</td>\n",
       "    </tr>\n",
       "    <tr>\n",
       "      <th>86</th>\n",
       "      <td>Indonesia</td>\n",
       "      <td>2021</td>\n",
       "      <td>602.590027</td>\n",
       "    </tr>\n",
       "    <tr>\n",
       "      <th>157</th>\n",
       "      <td>Saudi Arabia</td>\n",
       "      <td>2021</td>\n",
       "      <td>586.400024</td>\n",
       "    </tr>\n",
       "  </tbody>\n",
       "</table>\n",
       "</div>"
      ],
      "text/plain": [
       "           Country  Year  CO2EmissionRate (mt)\n",
       "38           China  2021          12466.320312\n",
       "190  United States  2021           4752.080078\n",
       "85           India  2021           2648.780029\n",
       "148         Russia  2021           1942.540039\n",
       "94           Japan  2021           1084.689941\n",
       "87            Iran  2021            710.830017\n",
       "69         Germany  2021            665.880005\n",
       "167    South Korea  2021            626.799988\n",
       "86       Indonesia  2021            602.590027\n",
       "157   Saudi Arabia  2021            586.400024"
      ]
     },
     "execution_count": 42,
     "metadata": {},
     "output_type": "execute_result"
    }
   ],
   "source": [
    "W.nlargest(10,['CO2EmissionRate (mt)'])"
   ]
  },
  {
   "cell_type": "code",
   "execution_count": 43,
   "id": "7d7a1ed1-7fdd-42f1-a97e-9fd9a1222268",
   "metadata": {
    "tags": []
   },
   "outputs": [
    {
     "data": {
      "text/html": [
       "<div>\n",
       "<style scoped>\n",
       "    .dataframe tbody tr th:only-of-type {\n",
       "        vertical-align: middle;\n",
       "    }\n",
       "\n",
       "    .dataframe tbody tr th {\n",
       "        vertical-align: top;\n",
       "    }\n",
       "\n",
       "    .dataframe thead th {\n",
       "        text-align: right;\n",
       "    }\n",
       "</style>\n",
       "<table border=\"1\" class=\"dataframe\">\n",
       "  <thead>\n",
       "    <tr style=\"text-align: right;\">\n",
       "      <th></th>\n",
       "      <th>Country</th>\n",
       "      <th>Year</th>\n",
       "      <th>CO2EmissionRate (mt)</th>\n",
       "    </tr>\n",
       "  </thead>\n",
       "  <tbody>\n",
       "    <tr>\n",
       "      <th>199</th>\n",
       "      <td>Afghanistan</td>\n",
       "      <td>1990</td>\n",
       "      <td>0.2</td>\n",
       "    </tr>\n",
       "    <tr>\n",
       "      <th>200</th>\n",
       "      <td>Albania</td>\n",
       "      <td>1990</td>\n",
       "      <td>2.3</td>\n",
       "    </tr>\n",
       "    <tr>\n",
       "      <th>201</th>\n",
       "      <td>Algeria</td>\n",
       "      <td>1990</td>\n",
       "      <td>3.0</td>\n",
       "    </tr>\n",
       "    <tr>\n",
       "      <th>202</th>\n",
       "      <td>Angola</td>\n",
       "      <td>1990</td>\n",
       "      <td>0.4</td>\n",
       "    </tr>\n",
       "    <tr>\n",
       "      <th>203</th>\n",
       "      <td>Antigua and Barbuda</td>\n",
       "      <td>1990</td>\n",
       "      <td>4.9</td>\n",
       "    </tr>\n",
       "  </tbody>\n",
       "</table>\n",
       "</div>"
      ],
      "text/plain": [
       "                 Country  Year  CO2EmissionRate (mt)\n",
       "199          Afghanistan  1990                   0.2\n",
       "200              Albania  1990                   2.3\n",
       "201              Algeria  1990                   3.0\n",
       "202               Angola  1990                   0.4\n",
       "203  Antigua and Barbuda  1990                   4.9"
      ]
     },
     "execution_count": 43,
     "metadata": {},
     "output_type": "execute_result"
    }
   ],
   "source": [
    "Q=W[W['Year']!=2021]\n",
    "Q.head()"
   ]
  },
  {
   "cell_type": "markdown",
   "id": "7518d0d4-8cc9-4273-8f8d-9f9b806c32f7",
   "metadata": {
    "tags": []
   },
   "source": [
    "#### <u><strong> co2 emission for YEMEN</strong> </u>"
   ]
  },
  {
   "cell_type": "code",
   "execution_count": 44,
   "id": "002d33c4-7caf-4067-b274-aace97353d9a",
   "metadata": {
    "tags": []
   },
   "outputs": [
    {
     "data": {
      "text/plain": [
       "Country                 Yemen\n",
       "Year                     2018\n",
       "CO2EmissionRate (mt)      1.1\n",
       "dtype: object"
      ]
     },
     "execution_count": 44,
     "metadata": {},
     "output_type": "execute_result"
    }
   ],
   "source": [
    "yemen1=Q[Q['Country']=='Yemen'].max()\n",
    "yemen1"
   ]
  },
  {
   "cell_type": "code",
   "execution_count": 45,
   "id": "509e6e60-3671-4513-b62b-d849ebe53e4d",
   "metadata": {
    "tags": []
   },
   "outputs": [
    {
     "data": {
      "text/plain": [
       "Country                 Yemen\n",
       "Year                     1990\n",
       "CO2EmissionRate (mt)      0.4\n",
       "dtype: object"
      ]
     },
     "execution_count": 45,
     "metadata": {},
     "output_type": "execute_result"
    }
   ],
   "source": [
    "yemen=Q[Q['Country']=='Yemen'].min()\n",
    "yemen"
   ]
  },
  {
   "cell_type": "markdown",
   "id": "76f4a458-709d-4dbe-9c90-781e94b770d7",
   "metadata": {},
   "source": [
    "#### <u>INDIA'S performance</u> "
   ]
  },
  {
   "cell_type": "code",
   "execution_count": 46,
   "id": "f3c045dc-2659-4cbb-be82-3c36d1f6ed2c",
   "metadata": {
    "tags": []
   },
   "outputs": [
    {
     "data": {
      "text/html": [
       "<div>\n",
       "<style scoped>\n",
       "    .dataframe tbody tr th:only-of-type {\n",
       "        vertical-align: middle;\n",
       "    }\n",
       "\n",
       "    .dataframe tbody tr th {\n",
       "        vertical-align: top;\n",
       "    }\n",
       "\n",
       "    .dataframe thead th {\n",
       "        text-align: right;\n",
       "    }\n",
       "</style>\n",
       "<table border=\"1\" class=\"dataframe\">\n",
       "  <thead>\n",
       "    <tr style=\"text-align: right;\">\n",
       "      <th></th>\n",
       "      <th>Country</th>\n",
       "      <th>Year</th>\n",
       "      <th>CO2EmissionRate (mt)</th>\n",
       "    </tr>\n",
       "  </thead>\n",
       "  <tbody>\n",
       "    <tr>\n",
       "      <th>284</th>\n",
       "      <td>India</td>\n",
       "      <td>1990</td>\n",
       "      <td>0.8</td>\n",
       "    </tr>\n",
       "    <tr>\n",
       "      <th>483</th>\n",
       "      <td>India</td>\n",
       "      <td>1991</td>\n",
       "      <td>0.8</td>\n",
       "    </tr>\n",
       "    <tr>\n",
       "      <th>682</th>\n",
       "      <td>India</td>\n",
       "      <td>1992</td>\n",
       "      <td>0.9</td>\n",
       "    </tr>\n",
       "    <tr>\n",
       "      <th>881</th>\n",
       "      <td>India</td>\n",
       "      <td>1993</td>\n",
       "      <td>0.9</td>\n",
       "    </tr>\n",
       "    <tr>\n",
       "      <th>1080</th>\n",
       "      <td>India</td>\n",
       "      <td>1994</td>\n",
       "      <td>0.9</td>\n",
       "    </tr>\n",
       "    <tr>\n",
       "      <th>1279</th>\n",
       "      <td>India</td>\n",
       "      <td>1995</td>\n",
       "      <td>1.0</td>\n",
       "    </tr>\n",
       "    <tr>\n",
       "      <th>1478</th>\n",
       "      <td>India</td>\n",
       "      <td>1996</td>\n",
       "      <td>1.0</td>\n",
       "    </tr>\n",
       "    <tr>\n",
       "      <th>1677</th>\n",
       "      <td>India</td>\n",
       "      <td>1997</td>\n",
       "      <td>1.1</td>\n",
       "    </tr>\n",
       "    <tr>\n",
       "      <th>1876</th>\n",
       "      <td>India</td>\n",
       "      <td>1998</td>\n",
       "      <td>1.1</td>\n",
       "    </tr>\n",
       "    <tr>\n",
       "      <th>2075</th>\n",
       "      <td>India</td>\n",
       "      <td>1999</td>\n",
       "      <td>1.1</td>\n",
       "    </tr>\n",
       "    <tr>\n",
       "      <th>2274</th>\n",
       "      <td>India</td>\n",
       "      <td>2000</td>\n",
       "      <td>1.1</td>\n",
       "    </tr>\n",
       "    <tr>\n",
       "      <th>2473</th>\n",
       "      <td>India</td>\n",
       "      <td>2001</td>\n",
       "      <td>1.1</td>\n",
       "    </tr>\n",
       "    <tr>\n",
       "      <th>2672</th>\n",
       "      <td>India</td>\n",
       "      <td>2002</td>\n",
       "      <td>1.1</td>\n",
       "    </tr>\n",
       "    <tr>\n",
       "      <th>2871</th>\n",
       "      <td>India</td>\n",
       "      <td>2003</td>\n",
       "      <td>1.2</td>\n",
       "    </tr>\n",
       "    <tr>\n",
       "      <th>3070</th>\n",
       "      <td>India</td>\n",
       "      <td>2004</td>\n",
       "      <td>1.2</td>\n",
       "    </tr>\n",
       "    <tr>\n",
       "      <th>3269</th>\n",
       "      <td>India</td>\n",
       "      <td>2005</td>\n",
       "      <td>1.2</td>\n",
       "    </tr>\n",
       "    <tr>\n",
       "      <th>3468</th>\n",
       "      <td>India</td>\n",
       "      <td>2006</td>\n",
       "      <td>1.3</td>\n",
       "    </tr>\n",
       "    <tr>\n",
       "      <th>3667</th>\n",
       "      <td>India</td>\n",
       "      <td>2007</td>\n",
       "      <td>1.4</td>\n",
       "    </tr>\n",
       "    <tr>\n",
       "      <th>3866</th>\n",
       "      <td>India</td>\n",
       "      <td>2008</td>\n",
       "      <td>1.4</td>\n",
       "    </tr>\n",
       "    <tr>\n",
       "      <th>4065</th>\n",
       "      <td>India</td>\n",
       "      <td>2009</td>\n",
       "      <td>1.5</td>\n",
       "    </tr>\n",
       "    <tr>\n",
       "      <th>4264</th>\n",
       "      <td>India</td>\n",
       "      <td>2010</td>\n",
       "      <td>1.6</td>\n",
       "    </tr>\n",
       "    <tr>\n",
       "      <th>4463</th>\n",
       "      <td>India</td>\n",
       "      <td>2011</td>\n",
       "      <td>1.7</td>\n",
       "    </tr>\n",
       "    <tr>\n",
       "      <th>4662</th>\n",
       "      <td>India</td>\n",
       "      <td>2012</td>\n",
       "      <td>1.6</td>\n",
       "    </tr>\n",
       "    <tr>\n",
       "      <th>4861</th>\n",
       "      <td>India</td>\n",
       "      <td>2013</td>\n",
       "      <td>1.6</td>\n",
       "    </tr>\n",
       "    <tr>\n",
       "      <th>5060</th>\n",
       "      <td>India</td>\n",
       "      <td>2014</td>\n",
       "      <td>1.6</td>\n",
       "    </tr>\n",
       "    <tr>\n",
       "      <th>5259</th>\n",
       "      <td>India</td>\n",
       "      <td>2015</td>\n",
       "      <td>1.7</td>\n",
       "    </tr>\n",
       "    <tr>\n",
       "      <th>5458</th>\n",
       "      <td>India</td>\n",
       "      <td>2018</td>\n",
       "      <td>1.9</td>\n",
       "    </tr>\n",
       "  </tbody>\n",
       "</table>\n",
       "</div>"
      ],
      "text/plain": [
       "     Country  Year  CO2EmissionRate (mt)\n",
       "284    India  1990                   0.8\n",
       "483    India  1991                   0.8\n",
       "682    India  1992                   0.9\n",
       "881    India  1993                   0.9\n",
       "1080   India  1994                   0.9\n",
       "1279   India  1995                   1.0\n",
       "1478   India  1996                   1.0\n",
       "1677   India  1997                   1.1\n",
       "1876   India  1998                   1.1\n",
       "2075   India  1999                   1.1\n",
       "2274   India  2000                   1.1\n",
       "2473   India  2001                   1.1\n",
       "2672   India  2002                   1.1\n",
       "2871   India  2003                   1.2\n",
       "3070   India  2004                   1.2\n",
       "3269   India  2005                   1.2\n",
       "3468   India  2006                   1.3\n",
       "3667   India  2007                   1.4\n",
       "3866   India  2008                   1.4\n",
       "4065   India  2009                   1.5\n",
       "4264   India  2010                   1.6\n",
       "4463   India  2011                   1.7\n",
       "4662   India  2012                   1.6\n",
       "4861   India  2013                   1.6\n",
       "5060   India  2014                   1.6\n",
       "5259   India  2015                   1.7\n",
       "5458   India  2018                   1.9"
      ]
     },
     "execution_count": 46,
     "metadata": {},
     "output_type": "execute_result"
    }
   ],
   "source": [
    "India=Q[Q['Country']=='India']\n",
    "India.nlargest(6,['CO2EmissionRate (mt)'])\n",
    "India"
   ]
  },
  {
   "cell_type": "code",
   "execution_count": 47,
   "id": "9abc321c-25f0-4568-ad2e-cb6100892998",
   "metadata": {
    "tags": []
   },
   "outputs": [
    {
     "data": {
      "text/html": [
       "<div>\n",
       "<style scoped>\n",
       "    .dataframe tbody tr th:only-of-type {\n",
       "        vertical-align: middle;\n",
       "    }\n",
       "\n",
       "    .dataframe tbody tr th {\n",
       "        vertical-align: top;\n",
       "    }\n",
       "\n",
       "    .dataframe thead th {\n",
       "        text-align: right;\n",
       "    }\n",
       "</style>\n",
       "<table border=\"1\" class=\"dataframe\">\n",
       "  <thead>\n",
       "    <tr style=\"text-align: right;\">\n",
       "      <th></th>\n",
       "      <th>Country</th>\n",
       "      <th>Year</th>\n",
       "      <th>CO2EmissionRate (mt)</th>\n",
       "    </tr>\n",
       "  </thead>\n",
       "  <tbody>\n",
       "    <tr>\n",
       "      <th>284</th>\n",
       "      <td>India</td>\n",
       "      <td>1990</td>\n",
       "      <td>0.8</td>\n",
       "    </tr>\n",
       "    <tr>\n",
       "      <th>483</th>\n",
       "      <td>India</td>\n",
       "      <td>1991</td>\n",
       "      <td>0.8</td>\n",
       "    </tr>\n",
       "    <tr>\n",
       "      <th>682</th>\n",
       "      <td>India</td>\n",
       "      <td>1992</td>\n",
       "      <td>0.9</td>\n",
       "    </tr>\n",
       "    <tr>\n",
       "      <th>881</th>\n",
       "      <td>India</td>\n",
       "      <td>1993</td>\n",
       "      <td>0.9</td>\n",
       "    </tr>\n",
       "    <tr>\n",
       "      <th>1080</th>\n",
       "      <td>India</td>\n",
       "      <td>1994</td>\n",
       "      <td>0.9</td>\n",
       "    </tr>\n",
       "    <tr>\n",
       "      <th>1279</th>\n",
       "      <td>India</td>\n",
       "      <td>1995</td>\n",
       "      <td>1.0</td>\n",
       "    </tr>\n",
       "  </tbody>\n",
       "</table>\n",
       "</div>"
      ],
      "text/plain": [
       "     Country  Year  CO2EmissionRate (mt)\n",
       "284    India  1990                   0.8\n",
       "483    India  1991                   0.8\n",
       "682    India  1992                   0.9\n",
       "881    India  1993                   0.9\n",
       "1080   India  1994                   0.9\n",
       "1279   India  1995                   1.0"
      ]
     },
     "execution_count": 47,
     "metadata": {},
     "output_type": "execute_result"
    }
   ],
   "source": [
    "India.nsmallest(6,['Year'])"
   ]
  },
  {
   "cell_type": "code",
   "execution_count": 48,
   "id": "9c3db3cf-8028-495a-9809-2427222350bc",
   "metadata": {
    "tags": []
   },
   "outputs": [
    {
     "data": {
      "image/png": "[encoded data removed]",
      "text/plain": [
       "<Figure size 640x480 with 1 Axes>"
      ]
     },
     "metadata": {},
     "output_type": "display_data"
    }
   ],
   "source": [
    "plt.bar(India['Year'],India['CO2EmissionRate (mt)'])\n",
    "plt.show()"
   ]
  },
  {
   "cell_type": "markdown",
   "id": "f4ea78d4-bf30-43c9-8021-d64f6e875538",
   "metadata": {},
   "source": [
    "#### **This graph tells us that India's co2 emission is constantly increasing and is highest in year 2018. As the country starts developing it's co2 emission also increases.**"
   ]
  },
  {
   "cell_type": "code",
   "execution_count": 49,
   "id": "33923b9c-f92d-4b80-9cef-d8450235c01d",
   "metadata": {
    "tags": []
   },
   "outputs": [
    {
     "data": {
      "image/png": "[encoded data removed]",
      "text/plain": [
       "<Figure size 640x480 with 1 Axes>"
      ]
     },
     "metadata": {},
     "output_type": "display_data"
    }
   ],
   "source": [
    "sns.distplot(India['CO2EmissionRate (mt)'],bins=10, kde=True)\n",
    "plt.title('Histogram of Years with KDE ')\n",
    "plt.show()"
   ]
  },
  {
   "cell_type": "markdown",
   "id": "a5a52896-3d37-4903-a192-21f28b680c6c",
   "metadata": {},
   "source": [
    "#### **Kernel density estimation curve explains that the most probable is 1.1**"
   ]
  },
  {
   "cell_type": "code",
   "execution_count": 50,
   "id": "5c28ed7c-041d-48f3-8dc8-a007a911136d",
   "metadata": {
    "tags": []
   },
   "outputs": [
    {
     "data": {
      "text/plain": [
       "322"
      ]
     },
     "execution_count": 50,
     "metadata": {},
     "output_type": "execute_result"
    }
   ],
   "source": [
    "unique_count =Q['CO2EmissionRate (mt)'].nunique()\n",
    "unique_count"
   ]
  },
  {
   "cell_type": "markdown",
   "id": "22a51a7a-e7bf-4842-bffa-7e3c07003c4d",
   "metadata": {},
   "source": [
    "### <u><strong>Maximum co2 emitting country every year</strong></u>"
   ]
  },
  {
   "cell_type": "code",
   "execution_count": 51,
   "id": "40806362-8489-4658-939e-ad2b220924e0",
   "metadata": {
    "tags": []
   },
   "outputs": [
    {
     "data": {
      "text/html": [
       "<div>\n",
       "<style scoped>\n",
       "    .dataframe tbody tr th:only-of-type {\n",
       "        vertical-align: middle;\n",
       "    }\n",
       "\n",
       "    .dataframe tbody tr th {\n",
       "        vertical-align: top;\n",
       "    }\n",
       "\n",
       "    .dataframe thead th {\n",
       "        text-align: right;\n",
       "    }\n",
       "</style>\n",
       "<table border=\"1\" class=\"dataframe\">\n",
       "  <thead>\n",
       "    <tr style=\"text-align: right;\">\n",
       "      <th></th>\n",
       "      <th>Country</th>\n",
       "      <th>Year</th>\n",
       "      <th>CO2EmissionRate (mt)</th>\n",
       "    </tr>\n",
       "  </thead>\n",
       "  <tbody>\n",
       "    <tr>\n",
       "      <th>0</th>\n",
       "      <td>United Arab Emirates</td>\n",
       "      <td>1990</td>\n",
       "      <td>29.400000</td>\n",
       "    </tr>\n",
       "    <tr>\n",
       "      <th>1</th>\n",
       "      <td>Qatar</td>\n",
       "      <td>1991</td>\n",
       "      <td>36.700001</td>\n",
       "    </tr>\n",
       "    <tr>\n",
       "      <th>2</th>\n",
       "      <td>Qatar</td>\n",
       "      <td>1992</td>\n",
       "      <td>54.299999</td>\n",
       "    </tr>\n",
       "    <tr>\n",
       "      <th>3</th>\n",
       "      <td>Qatar</td>\n",
       "      <td>1993</td>\n",
       "      <td>60.900002</td>\n",
       "    </tr>\n",
       "    <tr>\n",
       "      <th>4</th>\n",
       "      <td>Qatar</td>\n",
       "      <td>1994</td>\n",
       "      <td>58.700001</td>\n",
       "    </tr>\n",
       "    <tr>\n",
       "      <th>5</th>\n",
       "      <td>Qatar</td>\n",
       "      <td>1995</td>\n",
       "      <td>58.599998</td>\n",
       "    </tr>\n",
       "    <tr>\n",
       "      <th>6</th>\n",
       "      <td>Qatar</td>\n",
       "      <td>1996</td>\n",
       "      <td>59.200001</td>\n",
       "    </tr>\n",
       "    <tr>\n",
       "      <th>7</th>\n",
       "      <td>Qatar</td>\n",
       "      <td>1997</td>\n",
       "      <td>65.800003</td>\n",
       "    </tr>\n",
       "    <tr>\n",
       "      <th>8</th>\n",
       "      <td>Qatar</td>\n",
       "      <td>1998</td>\n",
       "      <td>57.000000</td>\n",
       "    </tr>\n",
       "    <tr>\n",
       "      <th>9</th>\n",
       "      <td>Qatar</td>\n",
       "      <td>1999</td>\n",
       "      <td>53.299999</td>\n",
       "    </tr>\n",
       "    <tr>\n",
       "      <th>10</th>\n",
       "      <td>Qatar</td>\n",
       "      <td>2000</td>\n",
       "      <td>56.299999</td>\n",
       "    </tr>\n",
       "    <tr>\n",
       "      <th>11</th>\n",
       "      <td>Qatar</td>\n",
       "      <td>2001</td>\n",
       "      <td>43.200001</td>\n",
       "    </tr>\n",
       "    <tr>\n",
       "      <th>12</th>\n",
       "      <td>Qatar</td>\n",
       "      <td>2002</td>\n",
       "      <td>40.900002</td>\n",
       "    </tr>\n",
       "    <tr>\n",
       "      <th>13</th>\n",
       "      <td>Qatar</td>\n",
       "      <td>2003</td>\n",
       "      <td>41.799999</td>\n",
       "    </tr>\n",
       "    <tr>\n",
       "      <th>14</th>\n",
       "      <td>Qatar</td>\n",
       "      <td>2004</td>\n",
       "      <td>50.500000</td>\n",
       "    </tr>\n",
       "    <tr>\n",
       "      <th>15</th>\n",
       "      <td>Qatar</td>\n",
       "      <td>2005</td>\n",
       "      <td>64.199997</td>\n",
       "    </tr>\n",
       "    <tr>\n",
       "      <th>16</th>\n",
       "      <td>Qatar</td>\n",
       "      <td>2006</td>\n",
       "      <td>49.500000</td>\n",
       "    </tr>\n",
       "    <tr>\n",
       "      <th>17</th>\n",
       "      <td>Qatar</td>\n",
       "      <td>2007</td>\n",
       "      <td>55.400002</td>\n",
       "    </tr>\n",
       "    <tr>\n",
       "      <th>18</th>\n",
       "      <td>Qatar</td>\n",
       "      <td>2008</td>\n",
       "      <td>48.599998</td>\n",
       "    </tr>\n",
       "    <tr>\n",
       "      <th>19</th>\n",
       "      <td>Qatar</td>\n",
       "      <td>2009</td>\n",
       "      <td>44.000000</td>\n",
       "    </tr>\n",
       "    <tr>\n",
       "      <th>20</th>\n",
       "      <td>Qatar</td>\n",
       "      <td>2010</td>\n",
       "      <td>42.599998</td>\n",
       "    </tr>\n",
       "    <tr>\n",
       "      <th>21</th>\n",
       "      <td>Qatar</td>\n",
       "      <td>2011</td>\n",
       "      <td>44.000000</td>\n",
       "    </tr>\n",
       "    <tr>\n",
       "      <th>22</th>\n",
       "      <td>Qatar</td>\n",
       "      <td>2012</td>\n",
       "      <td>44.599998</td>\n",
       "    </tr>\n",
       "    <tr>\n",
       "      <th>23</th>\n",
       "      <td>Qatar</td>\n",
       "      <td>2013</td>\n",
       "      <td>37.799999</td>\n",
       "    </tr>\n",
       "    <tr>\n",
       "      <th>24</th>\n",
       "      <td>Qatar</td>\n",
       "      <td>2014</td>\n",
       "      <td>45.400002</td>\n",
       "    </tr>\n",
       "    <tr>\n",
       "      <th>25</th>\n",
       "      <td>Palau</td>\n",
       "      <td>2015</td>\n",
       "      <td>56.099998</td>\n",
       "    </tr>\n",
       "    <tr>\n",
       "      <th>26</th>\n",
       "      <td>Palau</td>\n",
       "      <td>2018</td>\n",
       "      <td>58.000000</td>\n",
       "    </tr>\n",
       "  </tbody>\n",
       "</table>\n",
       "</div>"
      ],
      "text/plain": [
       "                 Country  Year  CO2EmissionRate (mt)\n",
       "0   United Arab Emirates  1990             29.400000\n",
       "1                  Qatar  1991             36.700001\n",
       "2                  Qatar  1992             54.299999\n",
       "3                  Qatar  1993             60.900002\n",
       "4                  Qatar  1994             58.700001\n",
       "5                  Qatar  1995             58.599998\n",
       "6                  Qatar  1996             59.200001\n",
       "7                  Qatar  1997             65.800003\n",
       "8                  Qatar  1998             57.000000\n",
       "9                  Qatar  1999             53.299999\n",
       "10                 Qatar  2000             56.299999\n",
       "11                 Qatar  2001             43.200001\n",
       "12                 Qatar  2002             40.900002\n",
       "13                 Qatar  2003             41.799999\n",
       "14                 Qatar  2004             50.500000\n",
       "15                 Qatar  2005             64.199997\n",
       "16                 Qatar  2006             49.500000\n",
       "17                 Qatar  2007             55.400002\n",
       "18                 Qatar  2008             48.599998\n",
       "19                 Qatar  2009             44.000000\n",
       "20                 Qatar  2010             42.599998\n",
       "21                 Qatar  2011             44.000000\n",
       "22                 Qatar  2012             44.599998\n",
       "23                 Qatar  2013             37.799999\n",
       "24                 Qatar  2014             45.400002\n",
       "25                 Palau  2015             56.099998\n",
       "26                 Palau  2018             58.000000"
      ]
     },
     "execution_count": 51,
     "metadata": {},
     "output_type": "execute_result"
    }
   ],
   "source": [
    "max_emmission=Q.groupby('Year').apply(lambda group:group[group['CO2EmissionRate (mt)'] == group['CO2EmissionRate (mt)'].max()])\n",
    "max_emmission.reset_index(drop=True, inplace=True)\n",
    "max_emmission[['Country','Year','CO2EmissionRate (mt)']]"
   ]
  },
  {
   "cell_type": "code",
   "execution_count": 52,
   "id": "22c95703-c65d-4da6-bc4d-4a7128a8742e",
   "metadata": {
    "tags": []
   },
   "outputs": [
    {
     "data": {
      "text/html": [
       "<div>\n",
       "<style scoped>\n",
       "    .dataframe tbody tr th:only-of-type {\n",
       "        vertical-align: middle;\n",
       "    }\n",
       "\n",
       "    .dataframe tbody tr th {\n",
       "        vertical-align: top;\n",
       "    }\n",
       "\n",
       "    .dataframe thead th {\n",
       "        text-align: right;\n",
       "    }\n",
       "</style>\n",
       "<table border=\"1\" class=\"dataframe\">\n",
       "  <thead>\n",
       "    <tr style=\"text-align: right;\">\n",
       "      <th></th>\n",
       "      <th>country</th>\n",
       "      <th>times</th>\n",
       "    </tr>\n",
       "  </thead>\n",
       "  <tbody>\n",
       "    <tr>\n",
       "      <th>0</th>\n",
       "      <td>Qatar</td>\n",
       "      <td>24</td>\n",
       "    </tr>\n",
       "    <tr>\n",
       "      <th>1</th>\n",
       "      <td>Palau</td>\n",
       "      <td>2</td>\n",
       "    </tr>\n",
       "    <tr>\n",
       "      <th>2</th>\n",
       "      <td>United Arab Emirates</td>\n",
       "      <td>1</td>\n",
       "    </tr>\n",
       "  </tbody>\n",
       "</table>\n",
       "</div>"
      ],
      "text/plain": [
       "                country  times\n",
       "0                 Qatar     24\n",
       "1                 Palau      2\n",
       "2  United Arab Emirates      1"
      ]
     },
     "execution_count": 52,
     "metadata": {},
     "output_type": "execute_result"
    }
   ],
   "source": [
    "df=max_emmission['Country'].value_counts().to_frame('times')\n",
    "df1=df.rename_axis('country')\n",
    "df1 = df1.reset_index()\n",
    "df1"
   ]
  },
  {
   "cell_type": "code",
   "execution_count": 53,
   "id": "e2d74f2d-e4ff-4fa6-b852-84222c505633",
   "metadata": {
    "tags": []
   },
   "outputs": [
    {
     "data": {
      "image/png": "[encoded data removed]",
      "text/plain": [
       "<Figure size 600x600 with 1 Axes>"
      ]
     },
     "metadata": {},
     "output_type": "display_data"
    }
   ],
   "source": [
    "plt.figure(figsize=(6, 6))\n",
    "plt.pie(df1['times'], labels=df1['country'], autopct='%1.1f%%', startangle=180)\n",
    "plt.title('Distribution of FREQUENCY of most CO2 emitting country')\n",
    "plt.show()\n"
   ]
  },
  {
   "cell_type": "markdown",
   "id": "e5e85423-9874-420d-859c-bf607071ee96",
   "metadata": {},
   "source": [
    "#### **From above pie chart we can conclude that QATAR has the highest frequency of CO2 emitting country every year followed by PALAU and UAE .**\n"
   ]
  },
  {
   "cell_type": "markdown",
   "id": "76946a5b-b56c-416e-b561-14c0cdf539df",
   "metadata": {},
   "source": [
    "### <u><strong>Least co2 emitting country every year</strong><u/>"
   ]
  },
  {
   "cell_type": "code",
   "execution_count": 54,
   "id": "eceb6e2a-10eb-441d-a186-c2450813e79d",
   "metadata": {
    "tags": []
   },
   "outputs": [
    {
     "data": {
      "text/html": [
       "<div>\n",
       "<style scoped>\n",
       "    .dataframe tbody tr th:only-of-type {\n",
       "        vertical-align: middle;\n",
       "    }\n",
       "\n",
       "    .dataframe tbody tr th {\n",
       "        vertical-align: top;\n",
       "    }\n",
       "\n",
       "    .dataframe thead th {\n",
       "        text-align: right;\n",
       "    }\n",
       "</style>\n",
       "<table border=\"1\" class=\"dataframe\">\n",
       "  <thead>\n",
       "    <tr style=\"text-align: right;\">\n",
       "      <th></th>\n",
       "      <th>Country</th>\n",
       "      <th>Year</th>\n",
       "      <th>CO2EmissionRate (mt)</th>\n",
       "    </tr>\n",
       "  </thead>\n",
       "  <tbody>\n",
       "    <tr>\n",
       "      <th>0</th>\n",
       "      <td>Cambodia</td>\n",
       "      <td>1990</td>\n",
       "      <td>0.0</td>\n",
       "    </tr>\n",
       "    <tr>\n",
       "      <th>1</th>\n",
       "      <td>Chad</td>\n",
       "      <td>1990</td>\n",
       "      <td>0.0</td>\n",
       "    </tr>\n",
       "    <tr>\n",
       "      <th>2</th>\n",
       "      <td>Mali</td>\n",
       "      <td>1990</td>\n",
       "      <td>0.0</td>\n",
       "    </tr>\n",
       "    <tr>\n",
       "      <th>3</th>\n",
       "      <td>Namibia</td>\n",
       "      <td>1990</td>\n",
       "      <td>0.0</td>\n",
       "    </tr>\n",
       "    <tr>\n",
       "      <th>4</th>\n",
       "      <td>Nepal</td>\n",
       "      <td>1990</td>\n",
       "      <td>0.0</td>\n",
       "    </tr>\n",
       "    <tr>\n",
       "      <th>...</th>\n",
       "      <td>...</td>\n",
       "      <td>...</td>\n",
       "      <td>...</td>\n",
       "    </tr>\n",
       "    <tr>\n",
       "      <th>94</th>\n",
       "      <td>Faroe Islands</td>\n",
       "      <td>2015</td>\n",
       "      <td>0.0</td>\n",
       "    </tr>\n",
       "    <tr>\n",
       "      <th>95</th>\n",
       "      <td>Burundi</td>\n",
       "      <td>2018</td>\n",
       "      <td>0.0</td>\n",
       "    </tr>\n",
       "    <tr>\n",
       "      <th>96</th>\n",
       "      <td>Chad</td>\n",
       "      <td>2018</td>\n",
       "      <td>0.0</td>\n",
       "    </tr>\n",
       "    <tr>\n",
       "      <th>97</th>\n",
       "      <td>Democratic Republic of the Congo</td>\n",
       "      <td>2018</td>\n",
       "      <td>0.0</td>\n",
       "    </tr>\n",
       "    <tr>\n",
       "      <th>98</th>\n",
       "      <td>Faroe Islands</td>\n",
       "      <td>2018</td>\n",
       "      <td>0.0</td>\n",
       "    </tr>\n",
       "  </tbody>\n",
       "</table>\n",
       "<p>99 rows × 3 columns</p>\n",
       "</div>"
      ],
      "text/plain": [
       "                             Country  Year  CO2EmissionRate (mt)\n",
       "0                           Cambodia  1990                   0.0\n",
       "1                               Chad  1990                   0.0\n",
       "2                               Mali  1990                   0.0\n",
       "3                            Namibia  1990                   0.0\n",
       "4                              Nepal  1990                   0.0\n",
       "..                               ...   ...                   ...\n",
       "94                     Faroe Islands  2015                   0.0\n",
       "95                           Burundi  2018                   0.0\n",
       "96                              Chad  2018                   0.0\n",
       "97  Democratic Republic of the Congo  2018                   0.0\n",
       "98                     Faroe Islands  2018                   0.0\n",
       "\n",
       "[99 rows x 3 columns]"
      ]
     },
     "execution_count": 54,
     "metadata": {},
     "output_type": "execute_result"
    }
   ],
   "source": [
    "min_emmission=Q.groupby('Year').apply(lambda group:group[group['CO2EmissionRate (mt)'] == group['CO2EmissionRate (mt)'].min()])\n",
    "min_emmission.reset_index(drop=True, inplace=True)\n",
    "min_emmission[['Country','Year','CO2EmissionRate (mt)']]"
   ]
  },
  {
   "cell_type": "code",
   "execution_count": 55,
   "id": "a1d1eca6-f61a-4e41-94e2-fc2170936aa5",
   "metadata": {
    "tags": []
   },
   "outputs": [
    {
     "data": {
      "text/html": [
       "<div>\n",
       "<style scoped>\n",
       "    .dataframe tbody tr th:only-of-type {\n",
       "        vertical-align: middle;\n",
       "    }\n",
       "\n",
       "    .dataframe tbody tr th {\n",
       "        vertical-align: top;\n",
       "    }\n",
       "\n",
       "    .dataframe thead th {\n",
       "        text-align: right;\n",
       "    }\n",
       "</style>\n",
       "<table border=\"1\" class=\"dataframe\">\n",
       "  <thead>\n",
       "    <tr style=\"text-align: right;\">\n",
       "      <th></th>\n",
       "      <th>country</th>\n",
       "      <th>Times</th>\n",
       "    </tr>\n",
       "  </thead>\n",
       "  <tbody>\n",
       "    <tr>\n",
       "      <th>0</th>\n",
       "      <td>Chad</td>\n",
       "      <td>25</td>\n",
       "    </tr>\n",
       "    <tr>\n",
       "      <th>1</th>\n",
       "      <td>Burundi</td>\n",
       "      <td>19</td>\n",
       "    </tr>\n",
       "    <tr>\n",
       "      <th>2</th>\n",
       "      <td>Democratic Republic of the Congo</td>\n",
       "      <td>15</td>\n",
       "    </tr>\n",
       "    <tr>\n",
       "      <th>3</th>\n",
       "      <td>Somalia</td>\n",
       "      <td>9</td>\n",
       "    </tr>\n",
       "    <tr>\n",
       "      <th>4</th>\n",
       "      <td>Uganda</td>\n",
       "      <td>7</td>\n",
       "    </tr>\n",
       "    <tr>\n",
       "      <th>5</th>\n",
       "      <td>Mali</td>\n",
       "      <td>6</td>\n",
       "    </tr>\n",
       "    <tr>\n",
       "      <th>6</th>\n",
       "      <td>Afghanistan</td>\n",
       "      <td>6</td>\n",
       "    </tr>\n",
       "    <tr>\n",
       "      <th>7</th>\n",
       "      <td>Cambodia</td>\n",
       "      <td>5</td>\n",
       "    </tr>\n",
       "    <tr>\n",
       "      <th>8</th>\n",
       "      <td>Nepal</td>\n",
       "      <td>2</td>\n",
       "    </tr>\n",
       "    <tr>\n",
       "      <th>9</th>\n",
       "      <td>Faroe Islands</td>\n",
       "      <td>2</td>\n",
       "    </tr>\n",
       "    <tr>\n",
       "      <th>10</th>\n",
       "      <td>Namibia</td>\n",
       "      <td>1</td>\n",
       "    </tr>\n",
       "    <tr>\n",
       "      <th>11</th>\n",
       "      <td>Haiti</td>\n",
       "      <td>1</td>\n",
       "    </tr>\n",
       "    <tr>\n",
       "      <th>12</th>\n",
       "      <td>Ethiopia</td>\n",
       "      <td>1</td>\n",
       "    </tr>\n",
       "  </tbody>\n",
       "</table>\n",
       "</div>"
      ],
      "text/plain": [
       "                             country  Times\n",
       "0                               Chad     25\n",
       "1                            Burundi     19\n",
       "2   Democratic Republic of the Congo     15\n",
       "3                            Somalia      9\n",
       "4                             Uganda      7\n",
       "5                               Mali      6\n",
       "6                        Afghanistan      6\n",
       "7                           Cambodia      5\n",
       "8                              Nepal      2\n",
       "9                      Faroe Islands      2\n",
       "10                           Namibia      1\n",
       "11                             Haiti      1\n",
       "12                          Ethiopia      1"
      ]
     },
     "execution_count": 55,
     "metadata": {},
     "output_type": "execute_result"
    }
   ],
   "source": [
    "df2=min_emmission['Country'].value_counts().to_frame('Times')\n",
    "df1=df2.rename_axis('country')\n",
    "df1 = df1.reset_index()\n",
    "df1"
   ]
  },
  {
   "cell_type": "code",
   "execution_count": 56,
   "id": "7dc997e7-189a-4b28-9c40-53fcf5d25c13",
   "metadata": {
    "tags": []
   },
   "outputs": [
    {
     "data": {
      "image/png": "[encoded data removed]",
      "text/plain": [
       "<Figure size 600x600 with 1 Axes>"
      ]
     },
     "metadata": {},
     "output_type": "display_data"
    }
   ],
   "source": [
    "plt.figure(figsize=(6, 6))\n",
    "plt.pie(df1['Times'], labels=df1['country'], autopct='%1.1f%%', startangle=180)\n",
    "plt.title('Distribution of FREQUENCY of least CO2 emitting country')\n",
    "plt.show()"
   ]
  },
  {
   "cell_type": "markdown",
   "id": "ec1f0e1c-2942-4553-a80e-e1da79a38256",
   "metadata": {},
   "source": [
    "#### **This chart shows frequency of least CO2 emitting country.In this list CHAD is least Co2 emitting country.This chart also explains underdeveloped countries are dominating in this list.**  "
   ]
  },
  {
   "cell_type": "markdown",
   "id": "7b704608-1d1b-4fbe-839e-a14c691ab0c2",
   "metadata": {},
   "source": [
    "#### <u>**Highest co2 emission for every country**</u>"
   ]
  },
  {
   "cell_type": "code",
   "execution_count": 57,
   "id": "47973ed3-ef45-4970-8e67-8c80ecf7bc13",
   "metadata": {
    "tags": []
   },
   "outputs": [],
   "source": [
    "max_emmission1=Q.groupby('Country').apply(lambda group:group[group['CO2EmissionRate (mt)'] == group['CO2EmissionRate (mt)'].max()])\n",
    "max_emmission1.reset_index(drop=True, inplace=True)\n",
    "Z=max_emmission1[['Country','Year','CO2EmissionRate (mt)']]\n"
   ]
  },
  {
   "cell_type": "code",
   "execution_count": 58,
   "id": "10838936-b5b4-4f92-b008-7ea44c5274f2",
   "metadata": {
    "tags": []
   },
   "outputs": [
    {
     "data": {
      "text/html": [
       "<div>\n",
       "<style scoped>\n",
       "    .dataframe tbody tr th:only-of-type {\n",
       "        vertical-align: middle;\n",
       "    }\n",
       "\n",
       "    .dataframe tbody tr th {\n",
       "        vertical-align: top;\n",
       "    }\n",
       "\n",
       "    .dataframe thead th {\n",
       "        text-align: right;\n",
       "    }\n",
       "</style>\n",
       "<table border=\"1\" class=\"dataframe\">\n",
       "  <thead>\n",
       "    <tr style=\"text-align: right;\">\n",
       "      <th></th>\n",
       "      <th>Country</th>\n",
       "      <th>Year</th>\n",
       "      <th>CO2EmissionRate (mt)</th>\n",
       "    </tr>\n",
       "  </thead>\n",
       "  <tbody>\n",
       "    <tr>\n",
       "      <th>0</th>\n",
       "      <td>Afghanistan</td>\n",
       "      <td>2011</td>\n",
       "      <td>0.4</td>\n",
       "    </tr>\n",
       "    <tr>\n",
       "      <th>2</th>\n",
       "      <td>Albania</td>\n",
       "      <td>1990</td>\n",
       "      <td>2.3</td>\n",
       "    </tr>\n",
       "    <tr>\n",
       "      <th>3</th>\n",
       "      <td>Algeria</td>\n",
       "      <td>2015</td>\n",
       "      <td>3.9</td>\n",
       "    </tr>\n",
       "    <tr>\n",
       "      <th>5</th>\n",
       "      <td>Angola</td>\n",
       "      <td>2007</td>\n",
       "      <td>1.4</td>\n",
       "    </tr>\n",
       "    <tr>\n",
       "      <th>10</th>\n",
       "      <td>Antigua and Barbuda</td>\n",
       "      <td>2015</td>\n",
       "      <td>6.2</td>\n",
       "    </tr>\n",
       "    <tr>\n",
       "      <th>...</th>\n",
       "      <td>...</td>\n",
       "      <td>...</td>\n",
       "      <td>...</td>\n",
       "    </tr>\n",
       "    <tr>\n",
       "      <th>494</th>\n",
       "      <td>Venezuela</td>\n",
       "      <td>2002</td>\n",
       "      <td>7.6</td>\n",
       "    </tr>\n",
       "    <tr>\n",
       "      <th>495</th>\n",
       "      <td>Vietnam</td>\n",
       "      <td>2018</td>\n",
       "      <td>2.8</td>\n",
       "    </tr>\n",
       "    <tr>\n",
       "      <th>496</th>\n",
       "      <td>Yemen</td>\n",
       "      <td>1992</td>\n",
       "      <td>1.1</td>\n",
       "    </tr>\n",
       "    <tr>\n",
       "      <th>498</th>\n",
       "      <td>Zambia</td>\n",
       "      <td>1990</td>\n",
       "      <td>0.3</td>\n",
       "    </tr>\n",
       "    <tr>\n",
       "      <th>507</th>\n",
       "      <td>Zimbabwe</td>\n",
       "      <td>1990</td>\n",
       "      <td>1.5</td>\n",
       "    </tr>\n",
       "  </tbody>\n",
       "</table>\n",
       "<p>199 rows × 3 columns</p>\n",
       "</div>"
      ],
      "text/plain": [
       "                 Country  Year  CO2EmissionRate (mt)\n",
       "0            Afghanistan  2011                   0.4\n",
       "2                Albania  1990                   2.3\n",
       "3                Algeria  2015                   3.9\n",
       "5                 Angola  2007                   1.4\n",
       "10   Antigua and Barbuda  2015                   6.2\n",
       "..                   ...   ...                   ...\n",
       "494            Venezuela  2002                   7.6\n",
       "495              Vietnam  2018                   2.8\n",
       "496                Yemen  1992                   1.1\n",
       "498               Zambia  1990                   0.3\n",
       "507             Zimbabwe  1990                   1.5\n",
       "\n",
       "[199 rows x 3 columns]"
      ]
     },
     "execution_count": 58,
     "metadata": {},
     "output_type": "execute_result"
    }
   ],
   "source": [
    "Z= Z.drop_duplicates(subset=['Country'])\n",
    "Z"
   ]
  },
  {
   "cell_type": "code",
   "execution_count": 59,
   "id": "70899d79-0dca-498b-8ebf-7fa47301e866",
   "metadata": {
    "tags": []
   },
   "outputs": [
    {
     "data": {
      "text/html": [
       "<div>\n",
       "<style scoped>\n",
       "    .dataframe tbody tr th:only-of-type {\n",
       "        vertical-align: middle;\n",
       "    }\n",
       "\n",
       "    .dataframe tbody tr th {\n",
       "        vertical-align: top;\n",
       "    }\n",
       "\n",
       "    .dataframe thead th {\n",
       "        text-align: right;\n",
       "    }\n",
       "</style>\n",
       "<table border=\"1\" class=\"dataframe\">\n",
       "  <thead>\n",
       "    <tr style=\"text-align: right;\">\n",
       "      <th></th>\n",
       "      <th>Country</th>\n",
       "      <th>Year</th>\n",
       "      <th>CO2EmissionRate (mt)</th>\n",
       "    </tr>\n",
       "  </thead>\n",
       "  <tbody>\n",
       "    <tr>\n",
       "      <th>10</th>\n",
       "      <td>Antigua and Barbuda</td>\n",
       "      <td>2015</td>\n",
       "      <td>6.200000</td>\n",
       "    </tr>\n",
       "    <tr>\n",
       "      <th>15</th>\n",
       "      <td>Aruba</td>\n",
       "      <td>1991</td>\n",
       "      <td>29.400000</td>\n",
       "    </tr>\n",
       "    <tr>\n",
       "      <th>16</th>\n",
       "      <td>Australia</td>\n",
       "      <td>1998</td>\n",
       "      <td>18.700001</td>\n",
       "    </tr>\n",
       "    <tr>\n",
       "      <th>17</th>\n",
       "      <td>Austria</td>\n",
       "      <td>2005</td>\n",
       "      <td>8.800000</td>\n",
       "    </tr>\n",
       "    <tr>\n",
       "      <th>18</th>\n",
       "      <td>Azerbaijan</td>\n",
       "      <td>1992</td>\n",
       "      <td>5.900000</td>\n",
       "    </tr>\n",
       "    <tr>\n",
       "      <th>...</th>\n",
       "      <td>...</td>\n",
       "      <td>...</td>\n",
       "      <td>...</td>\n",
       "    </tr>\n",
       "    <tr>\n",
       "      <th>487</th>\n",
       "      <td>United Arab Emirates</td>\n",
       "      <td>2000</td>\n",
       "      <td>39.099998</td>\n",
       "    </tr>\n",
       "    <tr>\n",
       "      <th>488</th>\n",
       "      <td>United Kingdom</td>\n",
       "      <td>1991</td>\n",
       "      <td>10.300000</td>\n",
       "    </tr>\n",
       "    <tr>\n",
       "      <th>489</th>\n",
       "      <td>United States</td>\n",
       "      <td>2000</td>\n",
       "      <td>20.000000</td>\n",
       "    </tr>\n",
       "    <tr>\n",
       "      <th>491</th>\n",
       "      <td>Uzbekistan</td>\n",
       "      <td>1991</td>\n",
       "      <td>5.400000</td>\n",
       "    </tr>\n",
       "    <tr>\n",
       "      <th>494</th>\n",
       "      <td>Venezuela</td>\n",
       "      <td>2002</td>\n",
       "      <td>7.600000</td>\n",
       "    </tr>\n",
       "  </tbody>\n",
       "</table>\n",
       "<p>89 rows × 3 columns</p>\n",
       "</div>"
      ],
      "text/plain": [
       "                  Country  Year  CO2EmissionRate (mt)\n",
       "10    Antigua and Barbuda  2015              6.200000\n",
       "15                  Aruba  1991             29.400000\n",
       "16              Australia  1998             18.700001\n",
       "17                Austria  2005              8.800000\n",
       "18             Azerbaijan  1992              5.900000\n",
       "..                    ...   ...                   ...\n",
       "487  United Arab Emirates  2000             39.099998\n",
       "488        United Kingdom  1991             10.300000\n",
       "489         United States  2000             20.000000\n",
       "491            Uzbekistan  1991              5.400000\n",
       "494             Venezuela  2002              7.600000\n",
       "\n",
       "[89 rows x 3 columns]"
      ]
     },
     "execution_count": 59,
     "metadata": {},
     "output_type": "execute_result"
    }
   ],
   "source": [
    "Z[(Z['CO2EmissionRate (mt)'] > 5) & (Z['CO2EmissionRate (mt)'] < 60)]\n"
   ]
  },
  {
   "cell_type": "markdown",
   "id": "0aaccb51-1ebf-4c75-9c47-543d5cf99c65",
   "metadata": {},
   "source": [
    "### <u>**Top 10 CO2 emmitting country for year 2000**</u>"
   ]
  },
  {
   "cell_type": "code",
   "execution_count": 60,
   "id": "f676eb3e-2984-4dee-b35e-4792a951fa67",
   "metadata": {
    "tags": []
   },
   "outputs": [],
   "source": [
    "D=Q.groupby('Country').apply(lambda group:group[group['Year'] == 2000])\n",
    "D.reset_index(drop=True, inplace=True)"
   ]
  },
  {
   "cell_type": "code",
   "execution_count": 61,
   "id": "5b5ea769-1aae-46c2-b3e1-3025a04088cb",
   "metadata": {
    "tags": []
   },
   "outputs": [
    {
     "data": {
      "text/html": [
       "<div>\n",
       "<style scoped>\n",
       "    .dataframe tbody tr th:only-of-type {\n",
       "        vertical-align: middle;\n",
       "    }\n",
       "\n",
       "    .dataframe tbody tr th {\n",
       "        vertical-align: top;\n",
       "    }\n",
       "\n",
       "    .dataframe thead th {\n",
       "        text-align: right;\n",
       "    }\n",
       "</style>\n",
       "<table border=\"1\" class=\"dataframe\">\n",
       "  <thead>\n",
       "    <tr style=\"text-align: right;\">\n",
       "      <th></th>\n",
       "      <th>Country</th>\n",
       "      <th>Year</th>\n",
       "      <th>CO2EmissionRate (mt)</th>\n",
       "    </tr>\n",
       "  </thead>\n",
       "  <tbody>\n",
       "    <tr>\n",
       "      <th>145</th>\n",
       "      <td>Qatar</td>\n",
       "      <td>2000</td>\n",
       "      <td>56.299999</td>\n",
       "    </tr>\n",
       "    <tr>\n",
       "      <th>188</th>\n",
       "      <td>United Arab Emirates</td>\n",
       "      <td>2000</td>\n",
       "      <td>39.099998</td>\n",
       "    </tr>\n",
       "    <tr>\n",
       "      <th>99</th>\n",
       "      <td>Kuwait</td>\n",
       "      <td>2000</td>\n",
       "      <td>31.900000</td>\n",
       "    </tr>\n",
       "    <tr>\n",
       "      <th>12</th>\n",
       "      <td>Bahrain</td>\n",
       "      <td>2000</td>\n",
       "      <td>30.400000</td>\n",
       "    </tr>\n",
       "    <tr>\n",
       "      <th>7</th>\n",
       "      <td>Aruba</td>\n",
       "      <td>2000</td>\n",
       "      <td>24.900000</td>\n",
       "    </tr>\n",
       "    <tr>\n",
       "      <th>190</th>\n",
       "      <td>United States</td>\n",
       "      <td>2000</td>\n",
       "      <td>20.000000</td>\n",
       "    </tr>\n",
       "    <tr>\n",
       "      <th>26</th>\n",
       "      <td>Brunei</td>\n",
       "      <td>2000</td>\n",
       "      <td>19.600000</td>\n",
       "    </tr>\n",
       "    <tr>\n",
       "      <th>107</th>\n",
       "      <td>Luxembourg</td>\n",
       "      <td>2000</td>\n",
       "      <td>18.900000</td>\n",
       "    </tr>\n",
       "    <tr>\n",
       "      <th>181</th>\n",
       "      <td>Trinidad and Tobago</td>\n",
       "      <td>2000</td>\n",
       "      <td>18.900000</td>\n",
       "    </tr>\n",
       "    <tr>\n",
       "      <th>32</th>\n",
       "      <td>Canada</td>\n",
       "      <td>2000</td>\n",
       "      <td>17.500000</td>\n",
       "    </tr>\n",
       "  </tbody>\n",
       "</table>\n",
       "</div>"
      ],
      "text/plain": [
       "                  Country  Year  CO2EmissionRate (mt)\n",
       "145                 Qatar  2000             56.299999\n",
       "188  United Arab Emirates  2000             39.099998\n",
       "99                 Kuwait  2000             31.900000\n",
       "12                Bahrain  2000             30.400000\n",
       "7                   Aruba  2000             24.900000\n",
       "190         United States  2000             20.000000\n",
       "26                 Brunei  2000             19.600000\n",
       "107            Luxembourg  2000             18.900000\n",
       "181   Trinidad and Tobago  2000             18.900000\n",
       "32                 Canada  2000             17.500000"
      ]
     },
     "execution_count": 61,
     "metadata": {},
     "output_type": "execute_result"
    }
   ],
   "source": [
    "D1=D.nlargest(10,'CO2EmissionRate (mt)')\n",
    "D1"
   ]
  },
  {
   "cell_type": "code",
   "execution_count": 62,
   "id": "5b26a056-4239-4ceb-b9c1-379d37e74a31",
   "metadata": {
    "tags": []
   },
   "outputs": [
    {
     "data": {
      "image/png": "[encoded data removed]",
      "text/plain": [
       "<Figure size 640x480 with 1 Axes>"
      ]
     },
     "metadata": {},
     "output_type": "display_data"
    }
   ],
   "source": [
    "plt.bar(D1['Country'],D1['CO2EmissionRate (mt)'])\n",
    "plt.xticks(rotation=90)\n",
    "plt.ylabel('CO2EmissionRate (mt)')\n",
    "plt.show()"
   ]
  },
  {
   "cell_type": "code",
   "execution_count": null,
   "id": "cbfa85c1-75cb-4a02-9b8a-5563bd52b15a",
   "metadata": {},
   "outputs": [],
   "source": []
  }
 ],
 "metadata": {
  "kernelspec": {
   "display_name": "Python",
   "language": "python",
   "name": "conda-env-python-py"
  },
  "language_info": {
   "codemirror_mode": {
    "name": "ipython",
    "version": 3
   },
   "file_extension": ".py",
   "mimetype": "text/x-python",
   "name": "python",
   "nbconvert_exporter": "python",
   "pygments_lexer": "ipython3",
   "version": "3.7.12"
  }
 },
 "nbformat": 4,
 "nbformat_minor": 5
}
