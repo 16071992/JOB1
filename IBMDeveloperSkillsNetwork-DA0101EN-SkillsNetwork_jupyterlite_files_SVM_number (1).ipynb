{
  "metadata": {
    "language_info": {
      "codemirror_mode": {
        "name": "python",
        "version": 3
      },
      "file_extension": ".py",
      "mimetype": "text/x-python",
      "name": "python",
      "nbconvert_exporter": "python",
      "pygments_lexer": "ipython3",
      "version": "3.8"
    },
    "kernelspec": {
      "name": "python",
      "display_name": "Python (Pyodide)",
      "language": "python"
    }
  },
  "nbformat_minor": 4,
  "nbformat": 4,
  "cells": [
    {
      "cell_type": "markdown",
      "source": "# SVM",
      "metadata": {}
    },
    {
      "cell_type": "markdown",
      "source": "#### Support vector machine is a supervised  machine learning algorithm for both classification and regression tasks.\n#### SVM is particularly effective in cases where the data is not linearly separable and requires mapping to a higher-dimensional \n#### space.",
      "metadata": {}
    },
    {
      "cell_type": "markdown",
      "source": "### Data",
      "metadata": {}
    },
    {
      "cell_type": "code",
      "source": "import pandas as pd\nimport math\nimport numpy as np\n#a = tuple(input(\"enter the tuple \").split(','))\na = [(5),( 6), (3),(2),(4),(18),(8),(1),(11),(21),\n     (6),(13),(19),(15),(11),(12),(14),(52),(57),\n     (34),(48),(39),(16),(17),(89),(97),(79),(80)\n     ,(85),(11),(15),(28),(45),(51),(34),(46),(36),(66),(98),(99)]\ns = [int(x) for x in a]\nk = type(a)\n\nresult = [(x, pow(x, 3)) for x in s]\nresult\nX=pd.DataFrame(result,columns=['A','B'])\nX['C']= [( pow(x, 2)) for x in s]\nX['D']= [(2*x) for x in s]\nX['E']= [(math.exp(x)) for x in s]\nX['F']=[ pow(x, 3)/20 for x in s]\n\nX.head()",
      "metadata": {
        "trusted": true
      },
      "execution_count": 16,
      "outputs": [
        {
          "execution_count": 16,
          "output_type": "execute_result",
          "data": {
            "text/plain": "   A    B   C   D           E      F\n0  5  125  25  10  148.413159   6.25\n1  6  216  36  12  403.428793  10.80\n2  3   27   9   6   20.085537   1.35\n3  2    8   4   4    7.389056   0.40\n4  4   64  16   8   54.598150   3.20",
            "text/html": "<div>\n<style scoped>\n    .dataframe tbody tr th:only-of-type {\n        vertical-align: middle;\n    }\n\n    .dataframe tbody tr th {\n        vertical-align: top;\n    }\n\n    .dataframe thead th {\n        text-align: right;\n    }\n</style>\n<table border=\"1\" class=\"dataframe\">\n  <thead>\n    <tr style=\"text-align: right;\">\n      <th></th>\n      <th>A</th>\n      <th>B</th>\n      <th>C</th>\n      <th>D</th>\n      <th>E</th>\n      <th>F</th>\n    </tr>\n  </thead>\n  <tbody>\n    <tr>\n      <th>0</th>\n      <td>5</td>\n      <td>125</td>\n      <td>25</td>\n      <td>10</td>\n      <td>148.413159</td>\n      <td>6.25</td>\n    </tr>\n    <tr>\n      <th>1</th>\n      <td>6</td>\n      <td>216</td>\n      <td>36</td>\n      <td>12</td>\n      <td>403.428793</td>\n      <td>10.80</td>\n    </tr>\n    <tr>\n      <th>2</th>\n      <td>3</td>\n      <td>27</td>\n      <td>9</td>\n      <td>6</td>\n      <td>20.085537</td>\n      <td>1.35</td>\n    </tr>\n    <tr>\n      <th>3</th>\n      <td>2</td>\n      <td>8</td>\n      <td>4</td>\n      <td>4</td>\n      <td>7.389056</td>\n      <td>0.40</td>\n    </tr>\n    <tr>\n      <th>4</th>\n      <td>4</td>\n      <td>64</td>\n      <td>16</td>\n      <td>8</td>\n      <td>54.598150</td>\n      <td>3.20</td>\n    </tr>\n  </tbody>\n</table>\n</div>"
          },
          "metadata": {}
        }
      ]
    },
    {
      "cell_type": "markdown",
      "source": "#### Process of Binning to create a classification",
      "metadata": {}
    },
    {
      "cell_type": "code",
      "source": "F=np.linspace(X['A'].min(),X['A'].max(),3)\n\nbins = F\nlabels = ['122', '222']\nX['category'] = pd.cut(X['A'], bins=bins, labels=labels,include_lowest=True)\nZ=X\nZ.head()",
      "metadata": {
        "trusted": true
      },
      "execution_count": 25,
      "outputs": [
        {
          "execution_count": 25,
          "output_type": "execute_result",
          "data": {
            "text/plain": "   A    B   C   D           E      F category\n0  5  125  25  10  148.413159   6.25      122\n1  6  216  36  12  403.428793  10.80      122\n2  3   27   9   6   20.085537   1.35      122\n3  2    8   4   4    7.389056   0.40      122\n4  4   64  16   8   54.598150   3.20      122",
            "text/html": "<div>\n<style scoped>\n    .dataframe tbody tr th:only-of-type {\n        vertical-align: middle;\n    }\n\n    .dataframe tbody tr th {\n        vertical-align: top;\n    }\n\n    .dataframe thead th {\n        text-align: right;\n    }\n</style>\n<table border=\"1\" class=\"dataframe\">\n  <thead>\n    <tr style=\"text-align: right;\">\n      <th></th>\n      <th>A</th>\n      <th>B</th>\n      <th>C</th>\n      <th>D</th>\n      <th>E</th>\n      <th>F</th>\n      <th>category</th>\n    </tr>\n  </thead>\n  <tbody>\n    <tr>\n      <th>0</th>\n      <td>5</td>\n      <td>125</td>\n      <td>25</td>\n      <td>10</td>\n      <td>148.413159</td>\n      <td>6.25</td>\n      <td>122</td>\n    </tr>\n    <tr>\n      <th>1</th>\n      <td>6</td>\n      <td>216</td>\n      <td>36</td>\n      <td>12</td>\n      <td>403.428793</td>\n      <td>10.80</td>\n      <td>122</td>\n    </tr>\n    <tr>\n      <th>2</th>\n      <td>3</td>\n      <td>27</td>\n      <td>9</td>\n      <td>6</td>\n      <td>20.085537</td>\n      <td>1.35</td>\n      <td>122</td>\n    </tr>\n    <tr>\n      <th>3</th>\n      <td>2</td>\n      <td>8</td>\n      <td>4</td>\n      <td>4</td>\n      <td>7.389056</td>\n      <td>0.40</td>\n      <td>122</td>\n    </tr>\n    <tr>\n      <th>4</th>\n      <td>4</td>\n      <td>64</td>\n      <td>16</td>\n      <td>8</td>\n      <td>54.598150</td>\n      <td>3.20</td>\n      <td>122</td>\n    </tr>\n  </tbody>\n</table>\n</div>"
          },
          "metadata": {}
        }
      ]
    },
    {
      "cell_type": "code",
      "source": "import matplotlib.pyplot as plt",
      "metadata": {
        "trusted": true
      },
      "execution_count": 4,
      "outputs": []
    },
    {
      "cell_type": "code",
      "source": "ax = Z[Z['category'] == '122'][0:39].plot(kind='scatter', x='F', y='E', color='DarkBlue', label='122');\nZ[Z['category'] == '222'][0:39].plot(kind='scatter', x='F', y='E', color='Yellow', label='222', ax=ax);\nplt.show()",
      "metadata": {
        "trusted": true
      },
      "execution_count": 18,
      "outputs": [
        {
          "output_type": "display_data",
          "data": {
            "text/plain": "<Figure size 640x480 with 1 Axes>",
            "image/png": "[encoded data removed]"
          },
          "metadata": {}
        }
      ]
    },
    {
      "cell_type": "code",
      "source": "ax = Z[Z['category'] == '122'][0:39].plot(kind='scatter', x='B', y='E', color='DarkBlue', label='122');\nZ[Z['category'] == '222'][0:39].plot(kind='scatter', x='B', y='E', color='Yellow', label='222', ax=ax);\nplt.show()",
      "metadata": {
        "trusted": true
      },
      "execution_count": 5,
      "outputs": [
        {
          "output_type": "display_data",
          "data": {
            "text/plain": "<Figure size 640x480 with 1 Axes>",
            "image/png": "[encoded data removed]"
          },
          "metadata": {}
        }
      ]
    },
    {
      "cell_type": "markdown",
      "source": "### Applying SVM using column E,B,C to find category  'rbf' kernel is used",
      "metadata": {}
    },
    {
      "cell_type": "code",
      "source": "W=Z[['E','B','C']]\nE=Z[['category']]",
      "metadata": {
        "trusted": true
      },
      "execution_count": 6,
      "outputs": []
    },
    {
      "cell_type": "code",
      "source": "from sklearn import preprocessing\nfrom sklearn.model_selection import train_test_split\nfrom sklearn import svm",
      "metadata": {
        "trusted": true
      },
      "execution_count": 7,
      "outputs": []
    },
    {
      "cell_type": "code",
      "source": "W=np.asarray(W)\nE=np.asarray(E)",
      "metadata": {
        "trusted": true
      },
      "execution_count": 8,
      "outputs": []
    },
    {
      "cell_type": "code",
      "source": "x_train, x_test, y_train, y_test = train_test_split( W, E, test_size=0.25, random_state=42)\nprint ('Train set:', x_train.shape,  y_train.shape)\nprint ('Test set:', x_test.shape,  y_test.shape)",
      "metadata": {
        "trusted": true
      },
      "execution_count": 9,
      "outputs": [
        {
          "name": "stdout",
          "text": "Train set: (30, 3) (30, 1)\nTest set: (10, 3) (10, 1)\n",
          "output_type": "stream"
        }
      ]
    },
    {
      "cell_type": "code",
      "source": "EBC = svm.SVC(kernel='rbf')\nEBC.fit(x_train, y_train) ",
      "metadata": {
        "trusted": true
      },
      "execution_count": 10,
      "outputs": [
        {
          "name": "stderr",
          "text": "/lib/python3.11/site-packages/sklearn/utils/validation.py:1143: DataConversionWarning: A column-vector y was passed when a 1d array was expected. Please change the shape of y to (n_samples, ), for example using ravel().\n  y = column_or_1d(y, warn=True)\n",
          "output_type": "stream"
        },
        {
          "execution_count": 10,
          "output_type": "execute_result",
          "data": {
            "text/plain": "SVC()",
            "text/html": "<style>#sk-container-id-1 {color: black;background-color: white;}#sk-container-id-1 pre{padding: 0;}#sk-container-id-1 div.sk-toggleable {background-color: white;}#sk-container-id-1 label.sk-toggleable__label {cursor: pointer;display: block;width: 100%;margin-bottom: 0;padding: 0.3em;box-sizing: border-box;text-align: center;}#sk-container-id-1 label.sk-toggleable__label-arrow:before {content: \"▸\";float: left;margin-right: 0.25em;color: #696969;}#sk-container-id-1 label.sk-toggleable__label-arrow:hover:before {color: black;}#sk-container-id-1 div.sk-estimator:hover label.sk-toggleable__label-arrow:before {color: black;}#sk-container-id-1 div.sk-toggleable__content {max-height: 0;max-width: 0;overflow: hidden;text-align: left;background-color: #f0f8ff;}#sk-container-id-1 div.sk-toggleable__content pre {margin: 0.2em;color: black;border-radius: 0.25em;background-color: #f0f8ff;}#sk-container-id-1 input.sk-toggleable__control:checked~div.sk-toggleable__content {max-height: 200px;max-width: 100%;overflow: auto;}#sk-container-id-1 input.sk-toggleable__control:checked~label.sk-toggleable__label-arrow:before {content: \"▾\";}#sk-container-id-1 div.sk-estimator input.sk-toggleable__control:checked~label.sk-toggleable__label {background-color: #d4ebff;}#sk-container-id-1 div.sk-label input.sk-toggleable__control:checked~label.sk-toggleable__label {background-color: #d4ebff;}#sk-container-id-1 input.sk-hidden--visually {border: 0;clip: rect(1px 1px 1px 1px);clip: rect(1px, 1px, 1px, 1px);height: 1px;margin: -1px;overflow: hidden;padding: 0;position: absolute;width: 1px;}#sk-container-id-1 div.sk-estimator {font-family: monospace;background-color: #f0f8ff;border: 1px dotted black;border-radius: 0.25em;box-sizing: border-box;margin-bottom: 0.5em;}#sk-container-id-1 div.sk-estimator:hover {background-color: #d4ebff;}#sk-container-id-1 div.sk-parallel-item::after {content: \"\";width: 100%;border-bottom: 1px solid gray;flex-grow: 1;}#sk-container-id-1 div.sk-label:hover label.sk-toggleable__label {background-color: #d4ebff;}#sk-container-id-1 div.sk-serial::before {content: \"\";position: absolute;border-left: 1px solid gray;box-sizing: border-box;top: 0;bottom: 0;left: 50%;z-index: 0;}#sk-container-id-1 div.sk-serial {display: flex;flex-direction: column;align-items: center;background-color: white;padding-right: 0.2em;padding-left: 0.2em;position: relative;}#sk-container-id-1 div.sk-item {position: relative;z-index: 1;}#sk-container-id-1 div.sk-parallel {display: flex;align-items: stretch;justify-content: center;background-color: white;position: relative;}#sk-container-id-1 div.sk-item::before, #sk-container-id-1 div.sk-parallel-item::before {content: \"\";position: absolute;border-left: 1px solid gray;box-sizing: border-box;top: 0;bottom: 0;left: 50%;z-index: -1;}#sk-container-id-1 div.sk-parallel-item {display: flex;flex-direction: column;z-index: 1;position: relative;background-color: white;}#sk-container-id-1 div.sk-parallel-item:first-child::after {align-self: flex-end;width: 50%;}#sk-container-id-1 div.sk-parallel-item:last-child::after {align-self: flex-start;width: 50%;}#sk-container-id-1 div.sk-parallel-item:only-child::after {width: 0;}#sk-container-id-1 div.sk-dashed-wrapped {border: 1px dashed gray;margin: 0 0.4em 0.5em 0.4em;box-sizing: border-box;padding-bottom: 0.4em;background-color: white;}#sk-container-id-1 div.sk-label label {font-family: monospace;font-weight: bold;display: inline-block;line-height: 1.2em;}#sk-container-id-1 div.sk-label-container {text-align: center;}#sk-container-id-1 div.sk-container {/* jupyter's `normalize.less` sets `[hidden] { display: none; }` but bootstrap.min.css set `[hidden] { display: none !important; }` so we also need the `!important` here to be able to override the default hidden behavior on the sphinx rendered scikit-learn.org. See: https://github.com/scikit-learn/scikit-learn/issues/21755 */display: inline-block !important;position: relative;}#sk-container-id-1 div.sk-text-repr-fallback {display: none;}</style><div id=\"sk-container-id-1\" class=\"sk-top-container\"><div class=\"sk-text-repr-fallback\"><pre>SVC()</pre><b>In a Jupyter environment, please rerun this cell to show the HTML representation or trust the notebook. <br />On GitHub, the HTML representation is unable to render, please try loading this page with nbviewer.org.</b></div><div class=\"sk-container\" hidden><div class=\"sk-item\"><div class=\"sk-estimator sk-toggleable\"><input class=\"sk-toggleable__control sk-hidden--visually\" id=\"sk-estimator-id-1\" type=\"checkbox\" checked><label for=\"sk-estimator-id-1\" class=\"sk-toggleable__label sk-toggleable__label-arrow\">SVC</label><div class=\"sk-toggleable__content\"><pre>SVC()</pre></div></div></div></div></div>"
          },
          "metadata": {}
        }
      ]
    },
    {
      "cell_type": "code",
      "source": "yhat = EBC.predict(x_test)\nyhat ",
      "metadata": {
        "trusted": true
      },
      "execution_count": 11,
      "outputs": [
        {
          "execution_count": 11,
          "output_type": "execute_result",
          "data": {
            "text/plain": "array(['122', '122', '122', '122', '122', '122', '122', '122', '222',\n       '122'], dtype=object)"
          },
          "metadata": {}
        }
      ]
    },
    {
      "cell_type": "code",
      "source": "y_test.T",
      "metadata": {
        "trusted": true
      },
      "execution_count": 12,
      "outputs": [
        {
          "execution_count": 12,
          "output_type": "execute_result",
          "data": {
            "text/plain": "array([['122', '122', '122', '222', '122', '122', '222', '222', '222',\n        '122']], dtype=object)"
          },
          "metadata": {}
        }
      ]
    },
    {
      "cell_type": "code",
      "source": "from sklearn.metrics import classification_report, confusion_matrix\nimport itertools\ncnf_matrix = confusion_matrix(y_test, yhat, labels=['122','222'])\nnp.set_printoptions(precision=2)\n\nprint (classification_report(y_test, yhat))",
      "metadata": {
        "trusted": true
      },
      "execution_count": 13,
      "outputs": [
        {
          "name": "stdout",
          "text": "              precision    recall  f1-score   support\n\n         122       0.67      1.00      0.80         6\n         222       1.00      0.25      0.40         4\n\n    accuracy                           0.70        10\n   macro avg       0.83      0.62      0.60        10\nweighted avg       0.80      0.70      0.64        10\n\n",
          "output_type": "stream"
        }
      ]
    },
    {
      "cell_type": "raw",
      "source": "As can observe that this model precision for 222 is 1 that means if model says its 222 than it will be 222 but that is not true for 122.\nRecall value for 122 is 1 which means it has found all 122 .\nModels overall accuracy is not good.",
      "metadata": {}
    },
    {
      "cell_type": "code",
      "source": "import pandas as pd\nimport numpy as np\nfrom sklearn.model_selection import train_test_split\nfrom sklearn import svm\n\nD = [[['A', 'B', 'C']], [['B', 'C', 'D']], [['E', 'B', 'C']], [['A']], [['B']]]\nN = []\n\nfor i in range(len(D)):\n    for F in D[i]:\n        RC = F\n        x1 = X[RC].values\n        x2 = np.asarray(x1)\n        y = X['category'].values  \n\n        x_train, x_test, y_train, y_test = train_test_split(x2, y, test_size=0.35, random_state=4)\n        clf = svm.SVC(kernel='rbf')\n        clf.fit(x_train, y_train)\n        yhat = clf.predict(x_test)\n        \n        K=['ABC', 'BCD', 'EBC', 'A', 'B']\n        \n        N.append(pd.DataFrame({K[i]: yhat}))\n\nmerged_df = pd.concat([pd.DataFrame({'ytest':y_test})] + N, axis=1)\n\n\nmerged_df\n",
      "metadata": {
        "trusted": true
      },
      "execution_count": 14,
      "outputs": [
        {
          "execution_count": 14,
          "output_type": "execute_result",
          "data": {
            "text/plain": "   ytest  ABC  BCD  EBC    A    B\n0    222  222  222  122  222  222\n1    222  222  222  222  222  222\n2    122  122  122  122  122  122\n3    122  122  122  122  122  122\n4    222  222  222  122  222  222\n5    122  122  122  122  122  122\n6    122  122  122  122  122  122\n7    122  122  122  122  122  122\n8    122  122  122  122  122  122\n9    122  122  122  122  122  122\n10   122  122  122  122  122  122\n11   222  122  122  122  122  122\n12   122  122  122  122  122  122\n13   222  122  122  122  222  122",
            "text/html": "<div>\n<style scoped>\n    .dataframe tbody tr th:only-of-type {\n        vertical-align: middle;\n    }\n\n    .dataframe tbody tr th {\n        vertical-align: top;\n    }\n\n    .dataframe thead th {\n        text-align: right;\n    }\n</style>\n<table border=\"1\" class=\"dataframe\">\n  <thead>\n    <tr style=\"text-align: right;\">\n      <th></th>\n      <th>ytest</th>\n      <th>ABC</th>\n      <th>BCD</th>\n      <th>EBC</th>\n      <th>A</th>\n      <th>B</th>\n    </tr>\n  </thead>\n  <tbody>\n    <tr>\n      <th>0</th>\n      <td>222</td>\n      <td>222</td>\n      <td>222</td>\n      <td>122</td>\n      <td>222</td>\n      <td>222</td>\n    </tr>\n    <tr>\n      <th>1</th>\n      <td>222</td>\n      <td>222</td>\n      <td>222</td>\n      <td>222</td>\n      <td>222</td>\n      <td>222</td>\n    </tr>\n    <tr>\n      <th>2</th>\n      <td>122</td>\n      <td>122</td>\n      <td>122</td>\n      <td>122</td>\n      <td>122</td>\n      <td>122</td>\n    </tr>\n    <tr>\n      <th>3</th>\n      <td>122</td>\n      <td>122</td>\n      <td>122</td>\n      <td>122</td>\n      <td>122</td>\n      <td>122</td>\n    </tr>\n    <tr>\n      <th>4</th>\n      <td>222</td>\n      <td>222</td>\n      <td>222</td>\n      <td>122</td>\n      <td>222</td>\n      <td>222</td>\n    </tr>\n    <tr>\n      <th>5</th>\n      <td>122</td>\n      <td>122</td>\n      <td>122</td>\n      <td>122</td>\n      <td>122</td>\n      <td>122</td>\n    </tr>\n    <tr>\n      <th>6</th>\n      <td>122</td>\n      <td>122</td>\n      <td>122</td>\n      <td>122</td>\n      <td>122</td>\n      <td>122</td>\n    </tr>\n    <tr>\n      <th>7</th>\n      <td>122</td>\n      <td>122</td>\n      <td>122</td>\n      <td>122</td>\n      <td>122</td>\n      <td>122</td>\n    </tr>\n    <tr>\n      <th>8</th>\n      <td>122</td>\n      <td>122</td>\n      <td>122</td>\n      <td>122</td>\n      <td>122</td>\n      <td>122</td>\n    </tr>\n    <tr>\n      <th>9</th>\n      <td>122</td>\n      <td>122</td>\n      <td>122</td>\n      <td>122</td>\n      <td>122</td>\n      <td>122</td>\n    </tr>\n    <tr>\n      <th>10</th>\n      <td>122</td>\n      <td>122</td>\n      <td>122</td>\n      <td>122</td>\n      <td>122</td>\n      <td>122</td>\n    </tr>\n    <tr>\n      <th>11</th>\n      <td>222</td>\n      <td>122</td>\n      <td>122</td>\n      <td>122</td>\n      <td>122</td>\n      <td>122</td>\n    </tr>\n    <tr>\n      <th>12</th>\n      <td>122</td>\n      <td>122</td>\n      <td>122</td>\n      <td>122</td>\n      <td>122</td>\n      <td>122</td>\n    </tr>\n    <tr>\n      <th>13</th>\n      <td>222</td>\n      <td>122</td>\n      <td>122</td>\n      <td>122</td>\n      <td>222</td>\n      <td>122</td>\n    </tr>\n  </tbody>\n</table>\n</div>"
          },
          "metadata": {}
        }
      ]
    },
    {
      "cell_type": "markdown",
      "source": "#### In above code we tried to compare various columns and compare  there result and found that A and ABC \n#### shows satisfactory result.This is because the binning that we have done is done by using column 'A'.\n",
      "metadata": {}
    },
    {
      "cell_type": "code",
      "source": "B=merged_df.take([0],axis=1)\nV=merged_df.take([4],axis=1) ### we can change number 4 as 1,2,3,5\n\nfrom sklearn.metrics import classification_report, confusion_matrix\nimport itertools\ncnf_matrix = confusion_matrix(B, V, labels=['122','222'])\nnp.set_printoptions(precision=3)\n\nC=pd.DataFrame(B,V).head()\n\nprint (classification_report(B,V))\nprint(cnf_matrix)",
      "metadata": {
        "trusted": true
      },
      "execution_count": 41,
      "outputs": [
        {
          "name": "stdout",
          "text": "              precision    recall  f1-score   support\n\n         122       1.00      1.00      1.00         9\n         222       1.00      1.00      1.00         5\n\n    accuracy                           1.00        14\n   macro avg       1.00      1.00      1.00        14\nweighted avg       1.00      1.00      1.00        14\n\n[[9 0]\n [0 5]]\n",
          "output_type": "stream"
        }
      ]
    },
    {
      "cell_type": "markdown",
      "source": "### SVM using 'Linear ' kernel",
      "metadata": {}
    },
    {
      "cell_type": "code",
      "source": "import pandas as pd\nimport numpy as np\nfrom sklearn.model_selection import train_test_split\nfrom sklearn import svm\n\nD = [[['A', 'B', 'C']], [['B', 'C', 'D']], [['B', 'C']], [['A']], [['B']]]\nN = []\n\nfor i in range(len(D)):\n    for F in D[i]:\n        RC = F\n        x1 = Z[RC].values\n        x2 = np.asarray(x1)\n        y1 = Z['category'].values  \n\n        x_train, x_test, y_train, y_test = train_test_split(x2, y1, test_size=0.35, random_state=4)\n        clf = svm.SVC(kernel='linear')\n        clf.fit(x_train, y_train)\n        yhat = clf.predict(x_test)\n        \n        K=['ABC', 'BCD', 'BC', 'A', 'B']\n        \n        N.append(pd.DataFrame({K[i]: yhat}))\n\nmerged_df1 = pd.concat([pd.DataFrame({'ytest':y_test})] + N, axis=1)\n\n\nmerged_df1\n",
      "metadata": {
        "trusted": true
      },
      "execution_count": 32,
      "outputs": [
        {
          "execution_count": 32,
          "output_type": "execute_result",
          "data": {
            "text/plain": "   ytest  ABC  BCD   BC    A    B\n0    222  222  222  222  222  222\n1    222  222  222  222  222  222\n2    122  122  122  122  122  122\n3    122  122  122  122  122  122\n4    222  222  222  222  222  222\n5    122  122  122  122  122  122\n6    122  122  122  122  122  122\n7    122  122  122  122  122  122\n8    122  122  122  122  122  122\n9    122  122  122  122  122  122\n10   122  122  122  122  122  122\n11   222  222  222  222  222  222\n12   122  122  122  122  122  122\n13   222  222  222  222  222  222",
            "text/html": "<div>\n<style scoped>\n    .dataframe tbody tr th:only-of-type {\n        vertical-align: middle;\n    }\n\n    .dataframe tbody tr th {\n        vertical-align: top;\n    }\n\n    .dataframe thead th {\n        text-align: right;\n    }\n</style>\n<table border=\"1\" class=\"dataframe\">\n  <thead>\n    <tr style=\"text-align: right;\">\n      <th></th>\n      <th>ytest</th>\n      <th>ABC</th>\n      <th>BCD</th>\n      <th>BC</th>\n      <th>A</th>\n      <th>B</th>\n    </tr>\n  </thead>\n  <tbody>\n    <tr>\n      <th>0</th>\n      <td>222</td>\n      <td>222</td>\n      <td>222</td>\n      <td>222</td>\n      <td>222</td>\n      <td>222</td>\n    </tr>\n    <tr>\n      <th>1</th>\n      <td>222</td>\n      <td>222</td>\n      <td>222</td>\n      <td>222</td>\n      <td>222</td>\n      <td>222</td>\n    </tr>\n    <tr>\n      <th>2</th>\n      <td>122</td>\n      <td>122</td>\n      <td>122</td>\n      <td>122</td>\n      <td>122</td>\n      <td>122</td>\n    </tr>\n    <tr>\n      <th>3</th>\n      <td>122</td>\n      <td>122</td>\n      <td>122</td>\n      <td>122</td>\n      <td>122</td>\n      <td>122</td>\n    </tr>\n    <tr>\n      <th>4</th>\n      <td>222</td>\n      <td>222</td>\n      <td>222</td>\n      <td>222</td>\n      <td>222</td>\n      <td>222</td>\n    </tr>\n    <tr>\n      <th>5</th>\n      <td>122</td>\n      <td>122</td>\n      <td>122</td>\n      <td>122</td>\n      <td>122</td>\n      <td>122</td>\n    </tr>\n    <tr>\n      <th>6</th>\n      <td>122</td>\n      <td>122</td>\n      <td>122</td>\n      <td>122</td>\n      <td>122</td>\n      <td>122</td>\n    </tr>\n    <tr>\n      <th>7</th>\n      <td>122</td>\n      <td>122</td>\n      <td>122</td>\n      <td>122</td>\n      <td>122</td>\n      <td>122</td>\n    </tr>\n    <tr>\n      <th>8</th>\n      <td>122</td>\n      <td>122</td>\n      <td>122</td>\n      <td>122</td>\n      <td>122</td>\n      <td>122</td>\n    </tr>\n    <tr>\n      <th>9</th>\n      <td>122</td>\n      <td>122</td>\n      <td>122</td>\n      <td>122</td>\n      <td>122</td>\n      <td>122</td>\n    </tr>\n    <tr>\n      <th>10</th>\n      <td>122</td>\n      <td>122</td>\n      <td>122</td>\n      <td>122</td>\n      <td>122</td>\n      <td>122</td>\n    </tr>\n    <tr>\n      <th>11</th>\n      <td>222</td>\n      <td>222</td>\n      <td>222</td>\n      <td>222</td>\n      <td>222</td>\n      <td>222</td>\n    </tr>\n    <tr>\n      <th>12</th>\n      <td>122</td>\n      <td>122</td>\n      <td>122</td>\n      <td>122</td>\n      <td>122</td>\n      <td>122</td>\n    </tr>\n    <tr>\n      <th>13</th>\n      <td>222</td>\n      <td>222</td>\n      <td>222</td>\n      <td>222</td>\n      <td>222</td>\n      <td>222</td>\n    </tr>\n  </tbody>\n</table>\n</div>"
          },
          "metadata": {}
        }
      ]
    },
    {
      "cell_type": "code",
      "source": "B1=merged_df1.take([0],axis=1)\nV1=merged_df1.take([1],axis=1)\n\nfrom sklearn.metrics import classification_report, confusion_matrix\nimport itertools\ncnf_matrix = confusion_matrix(B1, V1, labels=['122','222'])\nnp.set_printoptions(precision=3)\n\nC=pd.DataFrame(B,V).head()\n\nprint (classification_report(B1,V1))\nprint(cnf_matrix)\n",
      "metadata": {
        "trusted": true
      },
      "execution_count": 43,
      "outputs": [
        {
          "name": "stdout",
          "text": "              precision    recall  f1-score   support\n\n         122       1.00      1.00      1.00         9\n         222       1.00      1.00      1.00         5\n\n    accuracy                           1.00        14\n   macro avg       1.00      1.00      1.00        14\nweighted avg       1.00      1.00      1.00        14\n\n[[9 0]\n [0 5]]\n",
          "output_type": "stream"
        }
      ]
    },
    {
      "cell_type": "markdown",
      "source": "##### As we can observe from above that when we use 'Linear' kernel results come out to be accurate because the data we have was linear in nature.",
      "metadata": {
        "tags": []
      }
    },
    {
      "cell_type": "code",
      "source": "",
      "metadata": {},
      "execution_count": null,
      "outputs": []
    }
  ]
}